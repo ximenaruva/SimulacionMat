{
 "cells": [
  {
   "cell_type": "markdown",
   "metadata": {},
   "source": [
    "# Tarea - Programación lineal"
   ]
  },
  {
   "cell_type": "markdown",
   "metadata": {},
   "source": [
    "### Diseño de la Dieta Óptima\n",
    "\n",
    "Se quiere producir comida para gatos de la manera más barata, no obstante se debe también asegurar que se cumplan los datos requeridos de analisis nutricional. Por lo que se quiere variar la cantidad de cada ingrediente para cumplir con los estandares nutricionales. Los requisitos que se tienen es que en $100$ gramos, se deben tener **por lo menos** $8$ gramos de proteína y $6$ gramos de grasa. Así mismo, no se debe tener más de $2$ gramos de fibra y $0.4$ gramos de sal.  \n",
    "\n",
    "Los datos nutricionales se pueden obtener de la siguiente tabla:\n",
    "\n",
    "Ingrediente|Proteína|Grasa|Fibra|Sal\n",
    ":----|----|----|----|----\n",
    "Pollo|  10.0%|08.0%|00.1%|00.2%\n",
    "Carne|  20.0%|10.0%|00.5%|00.5%\n",
    "Cordero|15.0%|11.0%|00.5%|00.7%\n",
    "Arroz|  00.0%|01.0%|10.0%|00.2%\n",
    "Trigo|  04.0%|01.0%|15.0%|00.8%\n",
    "Gel|    00.0%|00.0%|00.0%|00.0%\n",
    "\n",
    "Los costos de cada producto son:\n",
    "\n",
    "Ingrediente|Costo por gramo\n",
    ":----|----\n",
    "Pollo|$\\$$0.013\n",
    "Carne|$\\$$0.008\n",
    "Cordero|$\\$$0.010\n",
    "Arroz|$\\$$0.002\n",
    "Trigo|$\\$$0.005\n",
    "Gel|$\\$$0.001    \n",
    "\n",
    "Lo que se busca optimizar en este caso es la cantidad de productos que se debe utilizar en la comida de gato, minimizando el costo total. Para simplificar la notación use las siguientes variables: \n",
    "\n",
    "+ $x_1:$ Gramos de pollo  \n",
    "+ $x_2:$ Gramos de carne  \n",
    "+ $x_3:$ Gramos de cordero  \n",
    "+ $x_4:$ Gramos de arroz  \n",
    "+ $x_5:$ Gramos de trigo  \n",
    "+ $x_6:$ Gramos de gel\n",
    "\n",
    "La tarea consiste en plantear el problemade programación lineal que permita satisfacer las necesidades alimenticias del gato al tiempo que minimice el costo total y resolverlo con `linprog`."
   ]
  },
  {
   "cell_type": "markdown",
   "metadata": {},
   "source": [
    "**Resolución**\n",
    "\n",
    "Minimizar el costo\n",
    " $$\\min_{x_1,\\dots,x_6}.013x_{1} + .008x_{2} + .010x_{3} + .002x_{4} + .005x_{5} + .001x_{6}$$"
   ]
  },
  {
   "cell_type": "markdown",
   "metadata": {},
   "source": [
    "Restricciones\n",
    "- $x_{1} + x_{2} + x_{3} + x_{4} + x_{5} + x_{6} = 100$\n",
    "- $.10x_{1} + .2x_{2} + .15x_{3} + .04x_{5}\\geq 8$\n",
    "- $.08x_{1} + .10x_{2} + .11x_{3} + .01x_{4} + .01x_{5}\\geq 6$\n",
    "- $.001x_{1} + .005x_{2} + .005x_{3} + .10x_{4} + .15x_{5}\\leq 2$\n",
    "- $.002x_{1} + .005x_{2} + .007x_{3} + .002x_{4} + .008x_{5}\\leq 0.4$\n"
   ]
  },
  {
   "cell_type": "code",
   "execution_count": 1,
   "metadata": {},
   "outputs": [],
   "source": [
    "import scipy.optimize as opt\n",
    "import numpy as np"
   ]
  },
  {
   "cell_type": "code",
   "execution_count": 4,
   "metadata": {},
   "outputs": [
    {
     "data": {
      "text/plain": [
       "     con: array([3.02975423e-11])\n",
       "     fun: 0.520000000021657\n",
       " message: 'Optimization terminated successfully.'\n",
       "     nit: 8\n",
       "   slack: array([4.00000000e+00, 7.70556952e-11, 1.70000000e+00, 1.00000000e-01])\n",
       "  status: 0\n",
       " success: True\n",
       "       x: array([4.50819665e-10, 6.00000000e+01, 4.08653401e-09, 2.29072687e-08,\n",
       "       3.70730008e-10, 4.00000000e+01])"
      ]
     },
     "execution_count": 4,
     "metadata": {},
     "output_type": "execute_result"
    }
   ],
   "source": [
    "c = np.array([.013,\n",
    "              .008,\n",
    "              .010,\n",
    "              .002,\n",
    "              .005,\n",
    "              .001])\n",
    "\n",
    "A_ub = np.array([\n",
    "    [-.10,-.20,-.15,0,-.04,0],\n",
    "    [-.08,-.1,-.11,-.01,-.01,0],\n",
    "    [.001,.005,.005,.1,.15,0],\n",
    "    [.002,.005,.007,.002,.008,0]])  #Listas\n",
    "\n",
    "b_ub = np.array([-8,\n",
    "                 -6,\n",
    "                 2,\n",
    "                 0.4])\n",
    "A_eq = np.array([\n",
    "    [1,1,1,1,1,1]\n",
    "])\n",
    "\n",
    "b_eq = np.array([100])\n",
    "\n",
    "opt.linprog(c, A_ub, b_ub, A_eq, b_eq)"
   ]
  },
  {
   "cell_type": "markdown",
   "metadata": {},
   "source": [
    "**Respuesta**\n",
    "\n",
    "El costo mínimo es de $0.52 con las siguientes espcificaciones:\n",
    "\n",
    "0.00020467g de pollo\n",
    "\n",
    "60g de carne\n",
    "\n",
    "0.00050431g de cordero\n",
    "\n",
    "0.00076845g de arroz\n",
    "\n",
    "0.00016831g de trigo\n",
    "\n",
    "40g de gel"
   ]
  },
  {
   "cell_type": "markdown",
   "metadata": {},
   "source": [
    "### Problema de distribución de energía eléctrica\n",
    "\n",
    "La Comisión Federal de Electricidad **(CFE)** dispone de cuatro plantas de generación para satisfacer la demanda diaria eléctrica en cuatro ciudades, Guadalajara, León y Morelia. Las plantas $1$, $2$ y $3$ pueden satisfacer $80$, $40$ y $60$ millones de KW al día respectivamente. Las necesidades de las ciudades de Guadalajara, León y Morelia son de $70$, $40$ y $70$ millones de Kw al día respectivamente. \n",
    "\n",
    "\n",
    "Los costos asociados al envío de suministro energético por cada millón de Kw entre cada planta y cada ciudad son los registrados en la siguiente tabla. \n",
    "\n",
    "-|Guadalajara|León|Morelia\n",
    ":----|----|----|----\n",
    "Planta 1|5|2|7\n",
    "Planta 2|3|6|6\n",
    "Planta 3|6|1|2\n",
    "\n",
    "Y por último, las restricciones del problema, van a estar dadas por las capacidades de oferta y demanda de cada planta (en millones de KW) y cada ciudad.\n",
    "\n",
    "Para simplificar la notación use las siguientes variables:\n",
    "\n",
    "+ $x_1$: Kw (en millones) distribuidos de la Planta 1 a Guadalajara\n",
    "+ $x_2$: Kw (en millones) distribuidos de la Planta 1 a León\n",
    "+ $x_3$: Kw (en millones) distribuidos de la Planta 1 a Morelia\n",
    "+ $x_4$: Kw (en millones) distribuidos de la Planta 2 a Guadalajara\n",
    "+ $x_5$: Kw (en millones) distribuidos de la Planta 2 a León\n",
    "+ $x_6$: Kw (en millones) distribuidos de la Planta 2 a Morelia\n",
    "+ $x_7$: Kw (en millones) distribuidos de la Planta 3 a Guadalajara\n",
    "+ $x_8$: Kw (en millones) distribuidos de la Planta 3 a León\n",
    "+ $x_9$: Kw (en millones) distribuidos de la Planta 3 a Morelia\n",
    "\n",
    "La tarea consiste en plantear el problema de programación lineal que permita satisfacer las necesidades de todas las ciudades al tiempo que minimice los costos asociados a la distribución y resolverlo con `linprog`."
   ]
  },
  {
   "cell_type": "markdown",
   "metadata": {},
   "source": [
    "**Resolución**\n",
    "\n",
    "Minimizar los costos asociados a la distribución\n",
    " $$\\min_{x_1,\\dots,x_9}5x_{1} + 2x_{2} + 7x_{3} + 3x_{4} + 6x_{5} + 6x_{6} + 6x_{7} + x_{8} + 2x_{9}$$"
   ]
  },
  {
   "cell_type": "markdown",
   "metadata": {},
   "source": [
    "Restricciones\n",
    "- $x_{1} + x_{2} + x_{3} \\leq 80$\n",
    "- $x_{4} + x_{5} + x_{6} \\leq 40$\n",
    "- $x_{7} + x_{8} + x_{9} \\leq 60$\n",
    "- $x_{1} + x_{4} + x_{7} = 70$\n",
    "- $x_{2} + x_{5} + x_{8} = 40$\n",
    "- $x_{3} + x_{6} + x_{9} = 70$"
   ]
  },
  {
   "cell_type": "code",
   "execution_count": 11,
   "metadata": {},
   "outputs": [],
   "source": [
    "import scipy.optimize as opt\n",
    "import numpy as np"
   ]
  },
  {
   "cell_type": "code",
   "execution_count": 13,
   "metadata": {},
   "outputs": [
    {
     "name": "stderr",
     "output_type": "stream",
     "text": [
      "C:\\Users\\Ximena\\AppData\\Local\\Temp\\ipykernel_50816\\1393622554.py:32: OptimizeWarning: Solving system with option 'cholesky':True failed. It is normal for this to happen occasionally, especially as the solution is approached. However, if you see this frequently, consider setting option 'cholesky' to False.\n",
      "  opt.linprog(c, A_ub, b_ub, A_eq, b_eq)\n",
      "C:\\Users\\Ximena\\AppData\\Local\\Temp\\ipykernel_50816\\1393622554.py:32: OptimizeWarning: Solving system with option 'sym_pos':True failed. It is normal for this to happen occasionally, especially as the solution is approached. However, if you see this frequently, consider setting option 'sym_pos' to False.\n",
      "  opt.linprog(c, A_ub, b_ub, A_eq, b_eq)\n"
     ]
    },
    {
     "data": {
      "text/plain": [
       "     con: array([1.74803461e-09, 9.66551283e-10, 1.74864567e-09])\n",
       "     fun: 539.9999999877223\n",
       " message: 'Optimization terminated successfully.'\n",
       "     nit: 6\n",
       "   slack: array([2.00691375e-09, 9.71880354e-10, 1.48444457e-09])\n",
       "  status: 0\n",
       " success: True\n",
       "       x: array([3.00000000e+01, 4.00000000e+01, 1.00000000e+01, 4.00000000e+01,\n",
       "       1.04540829e-10, 2.57527253e-11, 5.44274848e-11, 7.26427698e-11,\n",
       "       6.00000000e+01])"
      ]
     },
     "execution_count": 13,
     "metadata": {},
     "output_type": "execute_result"
    }
   ],
   "source": [
    "c = np.array([5,\n",
    "              2,\n",
    "              7,\n",
    "              3,\n",
    "              6,\n",
    "              6,\n",
    "              6,\n",
    "              1,\n",
    "              2])\n",
    "\n",
    "A_ub = np.array([\n",
    "    [1,1,1,0,0,0,0,0,0],\n",
    "    [0,0,0,1,1,1,0,0,0],\n",
    "    [0,0,0,0,0,0,1,1,1]])  #Listas\n",
    "\n",
    "\n",
    "\n",
    "b_ub = np.array([80,\n",
    "                 40,\n",
    "                 60])\n",
    "\n",
    "A_eq = np.array([ \n",
    "    [1,0,0,1,0,0,1,0,0],\n",
    "    [0,1,0,0,1,0,0,1,0],\n",
    "    [0,0,1,0,0,1,0,0,1]])\n",
    "\n",
    "b_eq = np.array([70,\n",
    "                 40,\n",
    "                 70])\n",
    "\n",
    "\n",
    "opt.linprog(c, A_ub, b_ub, A_eq, b_eq)"
   ]
  },
  {
   "cell_type": "markdown",
   "metadata": {},
   "source": [
    "**Respuesta**\n",
    "\n",
    "El costo mínimo de distribución que se puede alcanzar es de $539.99 con las siguientes cantidades en cada planta para cada ciudad (Kw en millones)\n",
    "\n",
    "30 Kw distribuidos de la Planta 1 a Guadalajara\n",
    "\n",
    "40 Kw distribuidos de la Planta 1 a León\n",
    "\n",
    "10 Kw distribuidos de la Planta 1 a Morelia\n",
    "\n",
    "40 Kw distribuidos de la Planta 2 a Guadalajara\n",
    "\n",
    "0.000047461 Kw distribuidos de la Planta 2 a León\n",
    "\n",
    "0.000043011 Kw distribuidos de la Planta 2 a Morelia\n",
    "\n",
    "0.000090903 Kw distribuidos de la Planta 3 a Guadalajara\n",
    "\n",
    "0.000121325 Kw distribuidos de la Planta 3 a León\n",
    "\n",
    "60 Kw distribuidos de la Planta 3 a Morelia"
   ]
  }
 ],
 "metadata": {
  "kernelspec": {
   "display_name": "Python 3 (ipykernel)",
   "language": "python",
   "name": "python3"
  },
  "language_info": {
   "codemirror_mode": {
    "name": "ipython",
    "version": 3
   },
   "file_extension": ".py",
   "mimetype": "text/x-python",
   "name": "python",
   "nbconvert_exporter": "python",
   "pygments_lexer": "ipython3",
   "version": "3.9.12"
  }
 },
 "nbformat": 4,
 "nbformat_minor": 2
}
