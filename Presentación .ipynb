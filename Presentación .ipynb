{
 "cells": [
  {
   "cell_type": "markdown",
   "id": "6c3387b6",
   "metadata": {},
   "source": [
    "# PRESENTACIÓN "
   ]
  },
  {
   "cell_type": "markdown",
   "id": "6642c2f9",
   "metadata": {},
   "source": [
    "## Introducción Personal"
   ]
  },
  {
   "cell_type": "markdown",
   "id": "112a0dbc",
   "metadata": {},
   "source": [
    "### *¿Quién soy?*"
   ]
  },
  {
   "cell_type": "markdown",
   "id": "976e0a80",
   "metadata": {},
   "source": [
    "$ Nombre : Ximena Arroyo Ruvalcaba $\n",
    "\n",
    "$ Edad : 18 $\n",
    "\n",
    "$ Carrera : Ingeniería Financiera $\n",
    "\n",
    "$ Semestre : Tercero $\n",
    "\n",
    "Decidí estudiar esta carrera debido a que desde que soy pequeña he escuchado varios temas financieros por el trabajo de mis papás, y quisiera comprenderlos, además de ayudar y crear la empresa que mi familia quiere tener. \n",
    "\n",
    "Otro de mis gustos además de las **matemáticas**, es el baile, he practicado la **danza** desde que tengo 4 años, por lo que más que un pasatiempo se ha convertido en una gran parte de mi, sin  embargo por una lesión en la rodilla, que es genética, no me puedo dedicar por completo al baile, pero en algún momento me gustaría colocar una empresa de objetos y utensilios que se requieren en este mundo artístico. \n"
   ]
  },
  {
   "cell_type": "markdown",
   "id": "6cca7bb4",
   "metadata": {},
   "source": [
    "### *Tema de Interés*\n",
    "\n",
    "Al empezar el estudio de mi carrera, me di cuenta que ésta abarca muchos más temas de los que imaginé, como por ejemplo:\n",
    "<ol> \n",
    "<li>Decisiones de inversión</li> \n",
    "<li>Financiamiento</li> \n",
    "<li>Análisis de los estados financieros</li> \n",
    "<li>Toma de decisiones</li> \n",
    "<li>Estrategias para administrar riesgos</li> \n",
    "</ol>\n",
    "\n",
    "De los cuales, siento que el que más ha llamado mi atención ha sido la administración de riesgos, ya que me parece muy interesante la manera en la que con cálculos se puede llegar a simular lo que va a pasar y de esta forma conocer el riesgo que la decisión implica. Algunos subtemas de este tema son:\n",
    "<ul> \n",
    "<li>Recursos de prevención</li> \n",
    "<li>Relación riesgo y beneficio</li> \n",
    "<li>Posicionamiento</li> \n",
    "<li>Riesgos normales</li> \n",
    "<li>Gestión del riesgo</li> \n",
    "</ul>"
   ]
  },
  {
   "cell_type": "markdown",
   "id": "fb68956a",
   "metadata": {},
   "source": [
    "![](https://www.dicyt.com/data/07/38607.jpg)"
   ]
  }
 ],
 "metadata": {
  "kernelspec": {
   "display_name": "Python 3 (ipykernel)",
   "language": "python",
   "name": "python3"
  },
  "language_info": {
   "codemirror_mode": {
    "name": "ipython",
    "version": 3
   },
   "file_extension": ".py",
   "mimetype": "text/x-python",
   "name": "python",
   "nbconvert_exporter": "python",
   "pygments_lexer": "ipython3",
   "version": "3.9.12"
  }
 },
 "nbformat": 4,
 "nbformat_minor": 5
}
