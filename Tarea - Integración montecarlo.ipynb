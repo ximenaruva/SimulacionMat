{
 "cells": [
  {
   "cell_type": "markdown",
   "metadata": {},
   "source": [
    "# TAREA"
   ]
  },
  {
   "cell_type": "code",
   "execution_count": 3,
   "metadata": {},
   "outputs": [],
   "source": [
    "import numpy as np\n",
    "import matplotlib.pyplot as plt\n",
    "import pandas as pd\n",
    "%matplotlib inline"
   ]
  },
  {
   "cell_type": "markdown",
   "metadata": {},
   "source": [
    "## Integración Montecarlo"
   ]
  },
  {
   "cell_type": "markdown",
   "metadata": {},
   "source": [
    "1. Realizar las siguientes integrales. Poner los resultados en una tabla cuyas filas correspondan a la cantidad de términos utilizados en la aproximación (usar 10, 100, 1000, 10000 y 100000 términos) y cuyas columnas correspondan a las funciones.\n",
    "    + $\\int_{1}^{3} e^{x}\\log(x)\\text{d}x$.\n",
    "    + $\\int_1^3 \\sin(x)\\ln(x) \\text{d}x$"
   ]
  },
  {
   "cell_type": "code",
   "execution_count": 7,
   "metadata": {},
   "outputs": [
    {
     "data": {
      "text/html": [
       "<div>\n",
       "<style scoped>\n",
       "    .dataframe tbody tr th:only-of-type {\n",
       "        vertical-align: middle;\n",
       "    }\n",
       "\n",
       "    .dataframe tbody tr th {\n",
       "        vertical-align: top;\n",
       "    }\n",
       "\n",
       "    .dataframe thead th {\n",
       "        text-align: right;\n",
       "    }\n",
       "</style>\n",
       "<table border=\"1\" class=\"dataframe\">\n",
       "  <thead>\n",
       "    <tr style=\"text-align: right;\">\n",
       "      <th></th>\n",
       "      <th>Aproximación1</th>\n",
       "      <th>Error1</th>\n",
       "    </tr>\n",
       "  </thead>\n",
       "  <tbody>\n",
       "    <tr>\n",
       "      <th>10.0</th>\n",
       "      <td>17.124484</td>\n",
       "      <td>3.096984</td>\n",
       "    </tr>\n",
       "    <tr>\n",
       "      <th>100.0</th>\n",
       "      <td>13.112357</td>\n",
       "      <td>0.915143</td>\n",
       "    </tr>\n",
       "    <tr>\n",
       "      <th>1000.0</th>\n",
       "      <td>13.958147</td>\n",
       "      <td>0.069353</td>\n",
       "    </tr>\n",
       "    <tr>\n",
       "      <th>10000.0</th>\n",
       "      <td>13.845923</td>\n",
       "      <td>0.181577</td>\n",
       "    </tr>\n",
       "    <tr>\n",
       "      <th>100000.0</th>\n",
       "      <td>14.058764</td>\n",
       "      <td>0.031264</td>\n",
       "    </tr>\n",
       "  </tbody>\n",
       "</table>\n",
       "</div>"
      ],
      "text/plain": [
       "         Aproximación1    Error1\n",
       "10.0         17.124484  3.096984\n",
       "100.0        13.112357  0.915143\n",
       "1000.0       13.958147  0.069353\n",
       "10000.0      13.845923  0.181577\n",
       "100000.0     14.058764  0.031264"
      ]
     },
     "execution_count": 7,
     "metadata": {},
     "output_type": "execute_result"
    }
   ],
   "source": [
    "def f(x):\n",
    "    return((np.exp(x))*(np.log(x)))\n",
    "\n",
    "N = 10\n",
    "np.random.seed(0)\n",
    "#u = np.random.rand(N)  # np.random.rand? Generar \"N\" valores aleatorios con distribución uniforme entre 0 y 1\n",
    "u = np.random.uniform(1, 3, N) # Igual que arriba\n",
    "np.mean(f(u))\n",
    "\n",
    "N = np.logspace(1, 5, 5) #Genera 7 elementos desde 10^1 hasta 10^5\n",
    "table1 = pd.DataFrame(columns=[\"Aproximación1\", \"Error1\"], index=N)\n",
    "table1\n",
    "\n",
    "def montecarlo(f, N, a, b):\n",
    "    u = np.random.uniform(a, b, N)\n",
    "    return np.mean(f(u)*(b-a))\n",
    "\n",
    "for i in N:\n",
    "    table1.loc[i, \"Aproximación1\"] = montecarlo(f, int(i), 1, 3)\n",
    "table1\n",
    "\n",
    "table1[\"Error1\"] = np.abs(14.0275 - table1[\"Aproximación1\"])\n",
    "table1"
   ]
  },
  {
   "cell_type": "code",
   "execution_count": 8,
   "metadata": {},
   "outputs": [
    {
     "data": {
      "text/html": [
       "<div>\n",
       "<style scoped>\n",
       "    .dataframe tbody tr th:only-of-type {\n",
       "        vertical-align: middle;\n",
       "    }\n",
       "\n",
       "    .dataframe tbody tr th {\n",
       "        vertical-align: top;\n",
       "    }\n",
       "\n",
       "    .dataframe thead th {\n",
       "        text-align: right;\n",
       "    }\n",
       "</style>\n",
       "<table border=\"1\" class=\"dataframe\">\n",
       "  <thead>\n",
       "    <tr style=\"text-align: right;\">\n",
       "      <th></th>\n",
       "      <th>Aproximación2</th>\n",
       "      <th>Error2</th>\n",
       "    </tr>\n",
       "  </thead>\n",
       "  <tbody>\n",
       "    <tr>\n",
       "      <th>10.0</th>\n",
       "      <td>0.749296</td>\n",
       "      <td>0.120548</td>\n",
       "    </tr>\n",
       "    <tr>\n",
       "      <th>100.0</th>\n",
       "      <td>0.871405</td>\n",
       "      <td>0.001561</td>\n",
       "    </tr>\n",
       "    <tr>\n",
       "      <th>1000.0</th>\n",
       "      <td>0.853486</td>\n",
       "      <td>0.016358</td>\n",
       "    </tr>\n",
       "    <tr>\n",
       "      <th>10000.0</th>\n",
       "      <td>0.867307</td>\n",
       "      <td>0.002537</td>\n",
       "    </tr>\n",
       "    <tr>\n",
       "      <th>100000.0</th>\n",
       "      <td>0.868826</td>\n",
       "      <td>0.001018</td>\n",
       "    </tr>\n",
       "  </tbody>\n",
       "</table>\n",
       "</div>"
      ],
      "text/plain": [
       "         Aproximación2    Error2\n",
       "10.0          0.749296  0.120548\n",
       "100.0         0.871405  0.001561\n",
       "1000.0        0.853486  0.016358\n",
       "10000.0       0.867307  0.002537\n",
       "100000.0      0.868826  0.001018"
      ]
     },
     "execution_count": 8,
     "metadata": {},
     "output_type": "execute_result"
    }
   ],
   "source": [
    "def f(x):\n",
    "    return(np.sin(x)*(np.log(x)))\n",
    "\n",
    "N = 10\n",
    "np.random.seed(0)\n",
    "#u = np.random.rand(N)  # np.random.rand? Generar \"N\" valores aleatorios con distribución uniforme entre 0 y 1\n",
    "u = np.random.uniform(1, 3, N) # Igual que arriba\n",
    "np.mean(f(u))\n",
    "\n",
    "N = np.logspace(1, 5, 5) #Genera 7 elementos desde 10^1 hasta 10^5\n",
    "table2 = pd.DataFrame(columns=[\"Aproximación2\", \"Error2\"], index=N)\n",
    "table2\n",
    "\n",
    "def montecarlo(f, N, a, b):\n",
    "    u = np.random.uniform(a, b, N)\n",
    "    return np.mean(f(u)*(b-a))\n",
    "\n",
    "for i in N:\n",
    "    table2.loc[i, \"Aproximación2\"] = montecarlo(f, int(i), 1, 3)\n",
    "table2\n",
    "\n",
    "table2[\"Error2\"] = np.abs(0.869844 - table2[\"Aproximación2\"])\n",
    "table2"
   ]
  },
  {
   "cell_type": "code",
   "execution_count": 9,
   "metadata": {},
   "outputs": [
    {
     "data": {
      "text/html": [
       "<div>\n",
       "<style scoped>\n",
       "    .dataframe tbody tr th:only-of-type {\n",
       "        vertical-align: middle;\n",
       "    }\n",
       "\n",
       "    .dataframe tbody tr th {\n",
       "        vertical-align: top;\n",
       "    }\n",
       "\n",
       "    .dataframe thead th {\n",
       "        text-align: right;\n",
       "    }\n",
       "</style>\n",
       "<table border=\"1\" class=\"dataframe\">\n",
       "  <thead>\n",
       "    <tr style=\"text-align: right;\">\n",
       "      <th></th>\n",
       "      <th>Aproximación1</th>\n",
       "      <th>Error1</th>\n",
       "      <th>Aproximación2</th>\n",
       "      <th>Error2</th>\n",
       "    </tr>\n",
       "  </thead>\n",
       "  <tbody>\n",
       "    <tr>\n",
       "      <th>10.0</th>\n",
       "      <td>17.124484</td>\n",
       "      <td>3.096984</td>\n",
       "      <td>0.749296</td>\n",
       "      <td>0.120548</td>\n",
       "    </tr>\n",
       "    <tr>\n",
       "      <th>100.0</th>\n",
       "      <td>13.112357</td>\n",
       "      <td>0.915143</td>\n",
       "      <td>0.871405</td>\n",
       "      <td>0.001561</td>\n",
       "    </tr>\n",
       "    <tr>\n",
       "      <th>1000.0</th>\n",
       "      <td>13.958147</td>\n",
       "      <td>0.069353</td>\n",
       "      <td>0.853486</td>\n",
       "      <td>0.016358</td>\n",
       "    </tr>\n",
       "    <tr>\n",
       "      <th>10000.0</th>\n",
       "      <td>13.845923</td>\n",
       "      <td>0.181577</td>\n",
       "      <td>0.867307</td>\n",
       "      <td>0.002537</td>\n",
       "    </tr>\n",
       "    <tr>\n",
       "      <th>100000.0</th>\n",
       "      <td>14.058764</td>\n",
       "      <td>0.031264</td>\n",
       "      <td>0.868826</td>\n",
       "      <td>0.001018</td>\n",
       "    </tr>\n",
       "  </tbody>\n",
       "</table>\n",
       "</div>"
      ],
      "text/plain": [
       "         Aproximación1    Error1 Aproximación2    Error2\n",
       "10.0         17.124484  3.096984      0.749296  0.120548\n",
       "100.0        13.112357  0.915143      0.871405  0.001561\n",
       "1000.0       13.958147  0.069353      0.853486  0.016358\n",
       "10000.0      13.845923  0.181577      0.867307  0.002537\n",
       "100000.0     14.058764  0.031264      0.868826  0.001018"
      ]
     },
     "execution_count": 9,
     "metadata": {},
     "output_type": "execute_result"
    }
   ],
   "source": [
    "table = pd.DataFrame(columns=[\"Aproximación1\", \"Error1\", \"Aproximación2\", \"Error2\"], index=N)\n",
    "table[\"Aproximación1\"] = table1[\"Aproximación1\"]\n",
    "table[\"Error1\"] = table1[\"Error1\"]\n",
    "table[\"Aproximación2\"] = table2[\"Aproximación2\"]\n",
    "table[\"Error2\"] = table2[\"Error2\"]\n",
    "table"
   ]
  },
  {
   "cell_type": "markdown",
   "metadata": {},
   "source": [
    "2. Aproximar el área de la región descrita por\n",
    "\n",
    "$$x^2+2y^2\\leq-2x+8y-7$$\n",
    "\n",
    "Poner los resultados en una tabla cuyas filas correspondan a la cantidad de términos utilizados en la aproximación (usar 10, 100, 1000, 10000 y 100000 términos) y en las columnas el valor de aproximación y el error relativo.\n",
    "\n",
    "Definir unos límites adecuados $a_1$, $b_1$, $a_2$ y $b_2$, para la región $R=\\left[a_1,b_1\\right]\\times\\left[a_2,b_2\\right]$"
   ]
  },
  {
   "cell_type": "code",
   "execution_count": 10,
   "metadata": {},
   "outputs": [
    {
     "data": {
      "text/plain": [
       "<matplotlib.collections.PathCollection at 0x27d6ae5d820>"
      ]
     },
     "execution_count": 10,
     "metadata": {},
     "output_type": "execute_result"
    },
    {
     "data": {
      "image/png": "[encoded data removed]",
      "text/plain": [
       "<Figure size 432x288 with 1 Axes>"
      ]
     },
     "metadata": {
      "needs_background": "light"
     },
     "output_type": "display_data"
    }
   ],
   "source": [
    "def circulo(x, y) : \n",
    "    return (x**2 + 2*y**2 <= -2*x+8*y-7)\n",
    "\n",
    "x = np.random.uniform(-5, 2, 100)\n",
    "y = np.random.uniform(0, 4, 100)\n",
    "X, Y = np.meshgrid(x, y)\n",
    "plt.figure()\n",
    "plt.scatter(X, Y, c=~circulo(X, Y))"
   ]
  },
  {
   "cell_type": "code",
   "execution_count": 11,
   "metadata": {},
   "outputs": [
    {
     "data": {
      "text/plain": [
       "2.8000000000000003"
      ]
     },
     "execution_count": 11,
     "metadata": {},
     "output_type": "execute_result"
    }
   ],
   "source": [
    "def montecarlo21(region, ax, bx, ay, by, N) : \n",
    "    x = np.random.uniform (ax, bx, N)\n",
    "    y = np.random.uniform(ay, by , N)\n",
    "    B = region(x, y)\n",
    "    AR = (bx - ax)*(by -ay)\n",
    "    return np.mean(B)*AR\n",
    "\n",
    "montecarlo21(circulo, -5, 2, 0, 4, 10)"
   ]
  },
  {
   "cell_type": "code",
   "execution_count": 12,
   "metadata": {},
   "outputs": [
    {
     "data": {
      "text/plain": [
       "3.0"
      ]
     },
     "execution_count": 12,
     "metadata": {},
     "output_type": "execute_result"
    }
   ],
   "source": [
    "def error_relativo1(AD, AR) :\n",
    "    return(np.sqrt((1-AD/AR)/(AD/AR)))\n",
    "AD = montecarlo21(circulo, -5, 2, 0, 4, 10)\n",
    "AR = 28\n",
    "error_relativo1(AD, AR)"
   ]
  },
  {
   "cell_type": "code",
   "execution_count": 13,
   "metadata": {},
   "outputs": [
    {
     "data": {
      "text/plain": [
       "4.760000000000001"
      ]
     },
     "execution_count": 13,
     "metadata": {},
     "output_type": "execute_result"
    }
   ],
   "source": [
    "def montecarlo22(region, ax, bx, ay, by, N) : \n",
    "    x = np.random.uniform (ax, bx, N)\n",
    "    y = np.random.uniform(ay, by , N)\n",
    "    B = region(x, y)\n",
    "    AR = (bx - ax)*(by -ay)\n",
    "    return np.mean(B)*AR\n",
    "\n",
    "montecarlo22(circulo, -5, 2, 0, 4, 100)"
   ]
  },
  {
   "cell_type": "code",
   "execution_count": 14,
   "metadata": {},
   "outputs": [
    {
     "data": {
      "text/plain": [
       "2.4784787961282104"
      ]
     },
     "execution_count": 14,
     "metadata": {},
     "output_type": "execute_result"
    }
   ],
   "source": [
    "def error_relativo2(AD, AR) :\n",
    "    return(np.sqrt((1-AD/AR)/(AD/AR)))\n",
    "AD = montecarlo22(circulo, -5, 2, 0, 4, 100)\n",
    "AR = 28\n",
    "error_relativo2(AD, AR)"
   ]
  },
  {
   "cell_type": "code",
   "execution_count": 15,
   "metadata": {},
   "outputs": [
    {
     "data": {
      "text/plain": [
       "3.9479999999999995"
      ]
     },
     "execution_count": 15,
     "metadata": {},
     "output_type": "execute_result"
    }
   ],
   "source": [
    "def montecarlo23(region, ax, bx, ay, by, N) : \n",
    "    x = np.random.uniform (ax, bx, N)\n",
    "    y = np.random.uniform(ay, by , N)\n",
    "    B = region(x, y)\n",
    "    AR = (bx - ax)*(by -ay)\n",
    "    return np.mean(B)*AR\n",
    "\n",
    "montecarlo23(circulo, -5, 2, 0, 4, 1000)"
   ]
  },
  {
   "cell_type": "code",
   "execution_count": 16,
   "metadata": {},
   "outputs": [
    {
     "data": {
      "text/plain": [
       "2.2577778844717553"
      ]
     },
     "execution_count": 16,
     "metadata": {},
     "output_type": "execute_result"
    }
   ],
   "source": [
    "def error_relativo3(AD, AR) :\n",
    "    return(np.sqrt((1-AD/AR)/(AD/AR)))\n",
    "AD = montecarlo23(circulo, -5, 2, 0, 4, 1000)\n",
    "AR = 28\n",
    "error_relativo3(AD, AR)"
   ]
  },
  {
   "cell_type": "code",
   "execution_count": 17,
   "metadata": {},
   "outputs": [
    {
     "data": {
      "text/plain": [
       "4.382"
      ]
     },
     "execution_count": 17,
     "metadata": {},
     "output_type": "execute_result"
    }
   ],
   "source": [
    "def montecarlo24(region, ax, bx, ay, by, N) : \n",
    "    x = np.random.uniform (ax, bx, N)\n",
    "    y = np.random.uniform(ay, by , N)\n",
    "    B = region(x, y)\n",
    "    AR = (bx - ax)*(by -ay)\n",
    "    return np.mean(B)*AR\n",
    "\n",
    "montecarlo24(circulo, -5, 2, 0, 4, 10000)"
   ]
  },
  {
   "cell_type": "code",
   "execution_count": 18,
   "metadata": {},
   "outputs": [
    {
     "data": {
      "text/plain": [
       "2.2602512010290376"
      ]
     },
     "execution_count": 18,
     "metadata": {},
     "output_type": "execute_result"
    }
   ],
   "source": [
    "def error_relativo4(AD, AR) :\n",
    "    return(np.sqrt((1-AD/AR)/(AD/AR)))\n",
    "AD = montecarlo24(circulo, -5, 2, 0, 4, 10000)\n",
    "AR = 28\n",
    "error_relativo4(AD, AR)"
   ]
  },
  {
   "cell_type": "code",
   "execution_count": 19,
   "metadata": {},
   "outputs": [
    {
     "data": {
      "text/plain": [
       "4.4828"
      ]
     },
     "execution_count": 19,
     "metadata": {},
     "output_type": "execute_result"
    }
   ],
   "source": [
    "def montecarlo25(region, ax, bx, ay, by, N) : \n",
    "    x = np.random.uniform (ax, bx, N)\n",
    "    y = np.random.uniform(ay, by , N)\n",
    "    B = region(x, y)\n",
    "    AR = (bx - ax)*(by -ay)\n",
    "    return np.mean(B)*AR\n",
    "\n",
    "montecarlo25(circulo, -5, 2, 0, 4, 100000)"
   ]
  },
  {
   "cell_type": "code",
   "execution_count": 20,
   "metadata": {},
   "outputs": [
    {
     "data": {
      "text/plain": [
       "2.3007960105324297"
      ]
     },
     "execution_count": 20,
     "metadata": {},
     "output_type": "execute_result"
    }
   ],
   "source": [
    "def error_relativo5(AD, AR) :\n",
    "    return(np.sqrt((1-AD/AR)/(AD/AR)))\n",
    "AD = montecarlo25(circulo, -5, 2, 0, 4, 100000)\n",
    "AR = 28\n",
    "error_relativo5(AD, AR)"
   ]
  },
  {
   "cell_type": "code",
   "execution_count": 21,
   "metadata": {},
   "outputs": [
    {
     "data": {
      "text/html": [
       "<div>\n",
       "<style scoped>\n",
       "    .dataframe tbody tr th:only-of-type {\n",
       "        vertical-align: middle;\n",
       "    }\n",
       "\n",
       "    .dataframe tbody tr th {\n",
       "        vertical-align: top;\n",
       "    }\n",
       "\n",
       "    .dataframe thead th {\n",
       "        text-align: right;\n",
       "    }\n",
       "</style>\n",
       "<table border=\"1\" class=\"dataframe\">\n",
       "  <thead>\n",
       "    <tr style=\"text-align: right;\">\n",
       "      <th></th>\n",
       "      <th>Aproximación1</th>\n",
       "      <th>Error1</th>\n",
       "      <th>Aproximación2</th>\n",
       "      <th>Error2</th>\n",
       "      <th>Aproximación3</th>\n",
       "      <th>Error3</th>\n",
       "      <th>Aproximación4</th>\n",
       "      <th>Error4</th>\n",
       "      <th>Aproximación5</th>\n",
       "      <th>Error5</th>\n",
       "    </tr>\n",
       "  </thead>\n",
       "  <tbody>\n",
       "    <tr>\n",
       "      <th>10.0</th>\n",
       "      <td>5.6</td>\n",
       "      <td>2.300796</td>\n",
       "      <td>3.92</td>\n",
       "      <td>2.300796</td>\n",
       "      <td>4.564</td>\n",
       "      <td>2.300796</td>\n",
       "      <td>4.3988</td>\n",
       "      <td>2.300796</td>\n",
       "      <td>4.44948</td>\n",
       "      <td>2.300796</td>\n",
       "    </tr>\n",
       "    <tr>\n",
       "      <th>100.0</th>\n",
       "      <td>2.8</td>\n",
       "      <td>2.300796</td>\n",
       "      <td>4.76</td>\n",
       "      <td>2.300796</td>\n",
       "      <td>4.396</td>\n",
       "      <td>2.300796</td>\n",
       "      <td>4.4212</td>\n",
       "      <td>2.300796</td>\n",
       "      <td>4.45956</td>\n",
       "      <td>2.300796</td>\n",
       "    </tr>\n",
       "    <tr>\n",
       "      <th>1000.0</th>\n",
       "      <td>8.4</td>\n",
       "      <td>2.300796</td>\n",
       "      <td>4.2</td>\n",
       "      <td>2.300796</td>\n",
       "      <td>4.536</td>\n",
       "      <td>2.300796</td>\n",
       "      <td>4.4688</td>\n",
       "      <td>2.300796</td>\n",
       "      <td>4.50016</td>\n",
       "      <td>2.300796</td>\n",
       "    </tr>\n",
       "    <tr>\n",
       "      <th>10000.0</th>\n",
       "      <td>5.6</td>\n",
       "      <td>2.300796</td>\n",
       "      <td>3.36</td>\n",
       "      <td>2.300796</td>\n",
       "      <td>4.536</td>\n",
       "      <td>2.300796</td>\n",
       "      <td>4.3932</td>\n",
       "      <td>2.300796</td>\n",
       "      <td>4.35484</td>\n",
       "      <td>2.300796</td>\n",
       "    </tr>\n",
       "    <tr>\n",
       "      <th>100000.0</th>\n",
       "      <td>5.6</td>\n",
       "      <td>2.300796</td>\n",
       "      <td>3.64</td>\n",
       "      <td>2.300796</td>\n",
       "      <td>4.424</td>\n",
       "      <td>2.300796</td>\n",
       "      <td>4.3708</td>\n",
       "      <td>2.300796</td>\n",
       "      <td>4.4156</td>\n",
       "      <td>2.300796</td>\n",
       "    </tr>\n",
       "  </tbody>\n",
       "</table>\n",
       "</div>"
      ],
      "text/plain": [
       "         Aproximación1    Error1 Aproximación2    Error2 Aproximación3  \\\n",
       "10.0               5.6  2.300796          3.92  2.300796         4.564   \n",
       "100.0              2.8  2.300796          4.76  2.300796         4.396   \n",
       "1000.0             8.4  2.300796           4.2  2.300796         4.536   \n",
       "10000.0            5.6  2.300796          3.36  2.300796         4.536   \n",
       "100000.0           5.6  2.300796          3.64  2.300796         4.424   \n",
       "\n",
       "            Error3 Aproximación4    Error4 Aproximación5    Error5  \n",
       "10.0      2.300796        4.3988  2.300796       4.44948  2.300796  \n",
       "100.0     2.300796        4.4212  2.300796       4.45956  2.300796  \n",
       "1000.0    2.300796        4.4688  2.300796       4.50016  2.300796  \n",
       "10000.0   2.300796        4.3932  2.300796       4.35484  2.300796  \n",
       "100000.0  2.300796        4.3708  2.300796        4.4156  2.300796  "
      ]
     },
     "execution_count": 21,
     "metadata": {},
     "output_type": "execute_result"
    }
   ],
   "source": [
    "import pandas as pd\n",
    "\n",
    "N = np.logspace(1, 5, 5) #Genera 7 elementos desde 10^1 hasta 10^5\n",
    "table = pd.DataFrame(columns=[\"Aproximación1\", \"Error1\", \"Aproximación2\", \"Error2\", \"Aproximación3\", \"Error3\", \"Aproximación4\", \"Error4\", \"Aproximación5\", \"Error5\"], index=N)\n",
    "for i in N : \n",
    "    table.loc[i, \"Aproximación1\"] = montecarlo21(circulo, -5, 2, 0, 4, 10)\n",
    "    table.loc[i, \"Error1\"] = error_relativo1(AD, AR)\n",
    "    table.loc[i, \"Aproximación2\"] = montecarlo22(circulo, -5, 2, 0, 4, 100)\n",
    "    table.loc[i, \"Error2\"] = error_relativo2(AD, AR)\n",
    "    table.loc[i, \"Aproximación3\"] = montecarlo23(circulo, -5, 2, 0, 4, 1000)\n",
    "    table.loc[i, \"Error3\"] = error_relativo3(AD, AR)\n",
    "    table.loc[i, \"Aproximación4\"] = montecarlo24(circulo, -5, 2, 0, 4, 10000)\n",
    "    table.loc[i, \"Error4\"] = error_relativo4(AD, AR)\n",
    "    table.loc[i, \"Aproximación5\"] = montecarlo25(circulo, -5, 2, 0, 4, 100000)\n",
    "    table.loc[i, \"Error5\"] = error_relativo5(AD, AR)\n",
    "table"
   ]
  },
  {
   "cell_type": "markdown",
   "metadata": {},
   "source": [
    "3. Describe 3 casos de uso de integración Montecarlo en tu ingeniería."
   ]
  },
  {
   "cell_type": "markdown",
   "metadata": {},
   "source": [
    "**1. Determinar el riesgo de determinadas acciones en inversiones medias o altas:**\n",
    "\n",
    "Para usar este Método primero se deben definir las estadísticas de tareas y de riesgos.\n",
    "Las tareas poseen un valor de tipo medio, además de ser variables en función de unas estadísticas capaces de relacionar un coste a un porcentaje que mide la representatividad. Por su parte, el riesgo presenta dos probabilidades: la de ocurrencia y el impacto que puede tener.\n",
    "\n",
    "Posteriormente calcular un valor concreto para cada riesgo y cada tarea. Lo cual se realiza a través de numeros aleatorios de entre 0 y 100.\n",
    "\n",
    "Al asemejar cada número aleatorio un porcentaje de representatividad, el resultado es que es capaz de estimar la duración o el coste de un proyecto, en función de cada número aleatorio.\n",
    "\n",
    "Durante el análisis de riesgo, el cálculo se debe repetir varias veces, para asegurarse de la mayor forma posible de cuál es el riesgo teórico al que una determinada inversión se enfrenta."
   ]
  },
  {
   "cell_type": "markdown",
   "metadata": {},
   "source": [
    "**2. Aplicación en la valuación de opciones europeas**\n",
    "\n",
    "El método se usa para calcular la siguiente integral\n",
    "$$ V_t=E*(e^{-r(T-t)}h(Ste^{(r-desv.est.^2/2)(T-t)+desv.y(T-t)^{1/2}})) $$\n",
    "Para valuar una opción al tiempo cero:\n",
    "\n",
    "- Primero se toma a r como la tasa anual de CETES correspondientes al periodo T y se estima la volatilidad anual desviación estándar, con información histórica de los precios del subyacente.\n",
    "\n",
    "- Se inicializan las variables \n",
    "$$ V_ar1 = 0, I_0 =0, I_1 = h(S_0e^{(r-desv.^2/2)T+desv.y_1(T)^{1/2}}) $$\n",
    "con y_1 una normal con media cero y varianza uno.\n",
    "\n",
    "- Para cada trayectoria i, con i=2,..,M se genera una variable aleatoria y_i normal con media cero y varianza uno se calcula.\n",
    "$$ h_i = h(S_0e^{(r-desv.^2/2)T+desv.y_1(T)^{1/2}}) $$\n",
    "\n",
    "- Se determina el intervalo de confianza del 95%\n",
    "\n",
    "Los valores que se obtiene con Montecarlo representan distintos valores de M."
   ]
  },
  {
   "cell_type": "markdown",
   "metadata": {},
   "source": [
    "**3. Uso en la Gestión de Carteras**\n",
    "\n",
    "Permite a los analistas determinar la cantidad de cartera que un cliente necesitaría al jubilarse.\n",
    "\n",
    "Afecta la distribución de las tasas de reinversión, las tasas de inflación, los rendimientos de las clases de activos, las tasas impositivas e incluso los ciclos de vida potenciales. Esto da como resultado la distribución de los montos de la cartera con las probabilidades de que respalde las necesidades de gasto deseadas por el cliente.\n",
    "\n",
    "La simulación Montecarlo permite tener una visión multivariante y un período de dependencia de la trayectoria. El valor de la cartera y la asignación de activos en cada período dependen de los resultados y la volatilidad del período anterior.\n",
    "\n",
    "Se utilizan diferentes asignaciones de activos con diferentes niveles de riesgo, diferentes correlaciones entre activos y la distribución de una gran cantidad de factores, incluidos los ahorros en cada período y la fecha de retiro, para hacer la distribución de las carteras y la probabilidad de ellos al valor de cartera deseado en la jubilación.\n",
    "\n",
    "El perfil de riesgo y rentabilidad del cliente es el factor más importante que influye en las decisiones de gestión de la cartera. Los retornos requeridos del cliente son una función de sus metas de jubilación y gastos; su perfil de riesgo está determinado por su capacidad y voluntad de asumir riesgos."
   ]
  },
  {
   "cell_type": "markdown",
   "metadata": {},
   "source": [
    "_Sitios web consultados_\n",
    "\n",
    "https://www.cerem.es/blog/cuanto-vale-el-riesgo-el-metodo-monte-carlo\n",
    "\n",
    "http://mat.izt.uam.mx/mat/documentos/notas%20de%20clase/cfenaoe3.pdf\n",
    "\n",
    "https://traders.studio/simulacion-de-monte-carlo-comprension-de-los-conceptos-basicos/"
   ]
  },
  {
   "cell_type": "code",
   "execution_count": null,
   "metadata": {},
   "outputs": [],
   "source": []
  }
 ],
 "metadata": {
  "kernelspec": {
   "display_name": "Python 3 (ipykernel)",
   "language": "python",
   "name": "python3"
  },
  "language_info": {
   "codemirror_mode": {
    "name": "ipython",
    "version": 3
   },
   "file_extension": ".py",
   "mimetype": "text/x-python",
   "name": "python",
   "nbconvert_exporter": "python",
   "pygments_lexer": "ipython3",
   "version": "3.9.12"
  }
 },
 "nbformat": 4,
 "nbformat_minor": 2
}
