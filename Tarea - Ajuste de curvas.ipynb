{
 "cells": [
  {
   "cell_type": "markdown",
   "metadata": {},
   "source": [
    "# Tarea - Ajuste de curvas"
   ]
  },
  {
   "cell_type": "markdown",
   "metadata": {},
   "source": [
    "Ximena Arroyo Ruvalcaba"
   ]
  },
  {
   "cell_type": "code",
   "execution_count": 90,
   "metadata": {},
   "outputs": [],
   "source": [
    "import numpy as np\n",
    "import pandas as pd\n",
    "import matplotlib.pyplot as plt"
   ]
  },
  {
   "cell_type": "markdown",
   "metadata": {},
   "source": [
    "---\n",
    "### Problema 1\n",
    "\n",
    "Los siguientes datos representan el costo en dólares de la electricidad según Western Electricity Coordinating Council desde el 2014 (y su pronóstico para el 2040)\n",
    "\n",
    "Tomado de:\n",
    "https://www.quandl.com/data/EIA/AEO_2016_REF_NO_CPP_PRCE_NA_COMM_NA_ELC_NA_WECCRKS_NCNTPKWH_A-Electricity-End-Use-Prices-Commercial-Western-Electricity-Coordinating-Council-Rockies-No-CPP-AEO2016"
   ]
  },
  {
   "cell_type": "code",
   "execution_count": 91,
   "metadata": {},
   "outputs": [],
   "source": [
    "import numpy as np\n",
    "# Datos extraidos de la página de quandl\n",
    "data = np.array([10.051101,  9.259127,  9.444813,  9.557723,  9.977324, 10.298326,\n",
    "       10.447217, 10.550506, 10.590784, 10.657418, 10.743085, 10.831965,\n",
    "       10.988435, 11.153055, 11.313326, 11.557165, 11.860136, 12.122511,\n",
    "       12.356448, 12.611391, 12.814569, 13.111372, 13.357134, 13.559012,\n",
    "       13.85861 , 14.135924, 14.436149])"
   ]
  },
  {
   "cell_type": "markdown",
   "metadata": {},
   "source": [
    "1. Ajuste estos datos a polinomios de grado 1 hasta 3 (los datos en $x$ corresponden a los años de 2014 a 2040, sin embargo son valores muy grandes para elevarlos a una potencia, use una representación para estos años, por ejemplo $2014 \\rightarrow 0$ y $2040\\rightarrow 26$).\n",
    "\n",
    "2. Muestre las tres curvas ajustadas junto a los datos de los costos en un solo gráfico"
   ]
  },
  {
   "cell_type": "code",
   "execution_count": 92,
   "metadata": {},
   "outputs": [
    {
     "data": {
      "image/png": "[encoded data removed]",
      "text/plain": [
       "<Figure size 432x288 with 1 Axes>"
      ]
     },
     "metadata": {
      "needs_background": "light"
     },
     "output_type": "display_data"
    }
   ],
   "source": [
    "import numpy as np\n",
    "import matplotlib.pyplot as plt\n",
    "%matplotlib inline\n",
    "\n",
    "x = np.linspace(0, 26, len(data))\n",
    "\n",
    "plt.figure()\n",
    "plt.scatter(x, data)\n",
    "plt.plot(x, data, \"r\" )\n",
    "plt.grid()"
   ]
  },
  {
   "cell_type": "code",
   "execution_count": 93,
   "metadata": {},
   "outputs": [],
   "source": [
    "import scipy.optimize as opt"
   ]
  },
  {
   "cell_type": "code",
   "execution_count": 94,
   "metadata": {},
   "outputs": [],
   "source": [
    "#Definimos un modelo f(x) = B0 + B1*x"
   ]
  },
  {
   "cell_type": "code",
   "execution_count": 95,
   "metadata": {},
   "outputs": [],
   "source": [
    "def funcion_de_costo(beta, X, y):\n",
    "    beta = np.reshape(beta, [2, -1]) #porque beta es tiene 2 elementos, el -1 es para siempre\n",
    "    pred = X @ beta  #@ es para que se haga la multiplicacion respetando algebra lineal \n",
    "    costo = (y-pred).T @ (y-pred)\n",
    "    return costo[0][0] #para quitar los corchetes en la respuesta"
   ]
  },
  {
   "cell_type": "code",
   "execution_count": 96,
   "metadata": {
    "scrolled": true
   },
   "outputs": [
    {
     "data": {
      "text/plain": [
       "array([[ 1.,  0.],\n",
       "       [ 1.,  1.],\n",
       "       [ 1.,  2.],\n",
       "       [ 1.,  3.],\n",
       "       [ 1.,  4.],\n",
       "       [ 1.,  5.],\n",
       "       [ 1.,  6.],\n",
       "       [ 1.,  7.],\n",
       "       [ 1.,  8.],\n",
       "       [ 1.,  9.],\n",
       "       [ 1., 10.],\n",
       "       [ 1., 11.],\n",
       "       [ 1., 12.],\n",
       "       [ 1., 13.],\n",
       "       [ 1., 14.],\n",
       "       [ 1., 15.],\n",
       "       [ 1., 16.],\n",
       "       [ 1., 17.],\n",
       "       [ 1., 18.],\n",
       "       [ 1., 19.],\n",
       "       [ 1., 20.],\n",
       "       [ 1., 21.],\n",
       "       [ 1., 22.],\n",
       "       [ 1., 23.],\n",
       "       [ 1., 24.],\n",
       "       [ 1., 25.],\n",
       "       [ 1., 26.]])"
      ]
     },
     "execution_count": 96,
     "metadata": {},
     "output_type": "execute_result"
    }
   ],
   "source": [
    "# Construyendo matriz X \n",
    "ones = np.ones([len(data), 1]) # m renglones y 1 columna de unos\n",
    "x_1 = np.reshape(x, [len(data), -1]) # columna de factor x con m renglones y 1 columna\n",
    "\n",
    "\n",
    "X_G1 = np.hstack((ones, x_1)) #amontonar en la matriz X (stack) en horizontal (h)\n",
    "X_G1"
   ]
  },
  {
   "cell_type": "code",
   "execution_count": 97,
   "metadata": {},
   "outputs": [
    {
     "data": {
      "text/plain": [
       "761.6296015835428"
      ]
     },
     "execution_count": 97,
     "metadata": {},
     "output_type": "execute_result"
    }
   ],
   "source": [
    "beta_inicial_G1 = np.random.rand(2) #vector aleatorio de 2 porque beta tiene 4 elementos\n",
    "y = np.reshape(data, [len(data), -1])\n",
    "funcion_de_costo(beta_inicial_G1, X_G1, y)"
   ]
  },
  {
   "cell_type": "code",
   "execution_count": 98,
   "metadata": {},
   "outputs": [
    {
     "data": {
      "text/plain": [
       "      fun: 2.3704889518145715\n",
       " hess_inv: array([[ 0.07010581, -0.00396825],\n",
       "       [-0.00396825,  0.00030525]])\n",
       "      jac: array([-5.21540642e-06, -2.95042992e-06])\n",
       "  message: 'Optimization terminated successfully.'\n",
       "     nfev: 15\n",
       "      nit: 3\n",
       "     njev: 5\n",
       "   status: 0\n",
       "  success: True\n",
       "        x: array([9.11567598, 0.18667058])"
      ]
     },
     "execution_count": 98,
     "metadata": {},
     "output_type": "execute_result"
    }
   ],
   "source": [
    "import scipy.optimize as opt\n",
    "sol_G1 = opt.minimize(funcion_de_costo,\n",
    "                  beta_inicial_G1,\n",
    "                  args=(X_G1, y))\n",
    "sol_G1"
   ]
  },
  {
   "cell_type": "code",
   "execution_count": 99,
   "metadata": {},
   "outputs": [
    {
     "data": {
      "text/plain": [
       "array([[  1.,   0.,   0.],\n",
       "       [  1.,   1.,   1.],\n",
       "       [  1.,   2.,   4.],\n",
       "       [  1.,   3.,   9.],\n",
       "       [  1.,   4.,  16.],\n",
       "       [  1.,   5.,  25.],\n",
       "       [  1.,   6.,  36.],\n",
       "       [  1.,   7.,  49.],\n",
       "       [  1.,   8.,  64.],\n",
       "       [  1.,   9.,  81.],\n",
       "       [  1.,  10., 100.],\n",
       "       [  1.,  11., 121.],\n",
       "       [  1.,  12., 144.],\n",
       "       [  1.,  13., 169.],\n",
       "       [  1.,  14., 196.],\n",
       "       [  1.,  15., 225.],\n",
       "       [  1.,  16., 256.],\n",
       "       [  1.,  17., 289.],\n",
       "       [  1.,  18., 324.],\n",
       "       [  1.,  19., 361.],\n",
       "       [  1.,  20., 400.],\n",
       "       [  1.,  21., 441.],\n",
       "       [  1.,  22., 484.],\n",
       "       [  1.,  23., 529.],\n",
       "       [  1.,  24., 576.],\n",
       "       [  1.,  25., 625.],\n",
       "       [  1.,  26., 676.]])"
      ]
     },
     "execution_count": 99,
     "metadata": {},
     "output_type": "execute_result"
    }
   ],
   "source": [
    "#Definimos un modelo f(x) = B0 + B1*x + B1*x**2\n",
    "def funcion_de_costo2(beta, X, y):\n",
    "    beta = np.reshape(beta, [3, -1]) #porque beta es tiene 4 elementos, el -1 es para siempre\n",
    "    pred = X @ beta  #@ es para que se haga la multiplicacion respetando algebra lineal \n",
    "    costo = (y-pred).T @ (y-pred)\n",
    "    return costo[0][0] #para quitar los corchetes en la respuesta\n",
    "\n",
    "# Construyendo matriz X \n",
    "ones = np.ones([len(data), 1]) # m renglones y 1 columna de unos\n",
    "x_1 = np.reshape(x, [len(data), -1]) # columna de factor x con m renglones y 1 columna\n",
    "x_2 = np.reshape(x**2, [len(data), -1])\n",
    "\n",
    "X_G2 = np.hstack((ones, x_1, x_2)) #amontonar en la matriz X (stack) en horizontal (h)\n",
    "X_G2"
   ]
  },
  {
   "cell_type": "code",
   "execution_count": 100,
   "metadata": {},
   "outputs": [
    {
     "data": {
      "text/plain": [
       "1781015.6585038789"
      ]
     },
     "execution_count": 100,
     "metadata": {},
     "output_type": "execute_result"
    }
   ],
   "source": [
    "beta_inicial_G2 = np.random.rand(3) #vector aleatorio de 3 porque beta tiene 4 elementos\n",
    "y = np.reshape(data, [len(data), -1])\n",
    "funcion_de_costo2(beta_inicial_G2, X_G2, y)"
   ]
  },
  {
   "cell_type": "code",
   "execution_count": 101,
   "metadata": {},
   "outputs": [
    {
     "data": {
      "text/plain": [
       "      fun: 0.8443845194031574\n",
       " hess_inv: array([[ 1.44224839e-01, -2.17568655e-02,  6.84172413e-04],\n",
       "       [-2.17568655e-02,  4.57452414e-03, -1.64202366e-04],\n",
       "       [ 6.84172413e-04, -1.64202366e-04,  6.31565880e-06]])\n",
       "      jac: array([0.00000000e+00, 2.23517418e-08, 7.07805157e-07])\n",
       "  message: 'Optimization terminated successfully.'\n",
       "     nfev: 52\n",
       "      nit: 9\n",
       "     njev: 13\n",
       "   status: 0\n",
       "  success: True\n",
       "        x: array([9.59128645e+00, 7.25241276e-02, 4.39024721e-03])"
      ]
     },
     "execution_count": 101,
     "metadata": {},
     "output_type": "execute_result"
    }
   ],
   "source": [
    "import scipy.optimize as opt\n",
    "sol_G2 = opt.minimize(funcion_de_costo2,\n",
    "                  beta_inicial_G2,\n",
    "                  args=(X_G2, y))\n",
    "sol_G2"
   ]
  },
  {
   "cell_type": "code",
   "execution_count": 102,
   "metadata": {},
   "outputs": [
    {
     "data": {
      "text/plain": [
       "array([[1.0000e+00, 0.0000e+00, 0.0000e+00, 0.0000e+00],\n",
       "       [1.0000e+00, 1.0000e+00, 1.0000e+00, 1.0000e+00],\n",
       "       [1.0000e+00, 2.0000e+00, 4.0000e+00, 8.0000e+00],\n",
       "       [1.0000e+00, 3.0000e+00, 9.0000e+00, 2.7000e+01],\n",
       "       [1.0000e+00, 4.0000e+00, 1.6000e+01, 6.4000e+01],\n",
       "       [1.0000e+00, 5.0000e+00, 2.5000e+01, 1.2500e+02],\n",
       "       [1.0000e+00, 6.0000e+00, 3.6000e+01, 2.1600e+02],\n",
       "       [1.0000e+00, 7.0000e+00, 4.9000e+01, 3.4300e+02],\n",
       "       [1.0000e+00, 8.0000e+00, 6.4000e+01, 5.1200e+02],\n",
       "       [1.0000e+00, 9.0000e+00, 8.1000e+01, 7.2900e+02],\n",
       "       [1.0000e+00, 1.0000e+01, 1.0000e+02, 1.0000e+03],\n",
       "       [1.0000e+00, 1.1000e+01, 1.2100e+02, 1.3310e+03],\n",
       "       [1.0000e+00, 1.2000e+01, 1.4400e+02, 1.7280e+03],\n",
       "       [1.0000e+00, 1.3000e+01, 1.6900e+02, 2.1970e+03],\n",
       "       [1.0000e+00, 1.4000e+01, 1.9600e+02, 2.7440e+03],\n",
       "       [1.0000e+00, 1.5000e+01, 2.2500e+02, 3.3750e+03],\n",
       "       [1.0000e+00, 1.6000e+01, 2.5600e+02, 4.0960e+03],\n",
       "       [1.0000e+00, 1.7000e+01, 2.8900e+02, 4.9130e+03],\n",
       "       [1.0000e+00, 1.8000e+01, 3.2400e+02, 5.8320e+03],\n",
       "       [1.0000e+00, 1.9000e+01, 3.6100e+02, 6.8590e+03],\n",
       "       [1.0000e+00, 2.0000e+01, 4.0000e+02, 8.0000e+03],\n",
       "       [1.0000e+00, 2.1000e+01, 4.4100e+02, 9.2610e+03],\n",
       "       [1.0000e+00, 2.2000e+01, 4.8400e+02, 1.0648e+04],\n",
       "       [1.0000e+00, 2.3000e+01, 5.2900e+02, 1.2167e+04],\n",
       "       [1.0000e+00, 2.4000e+01, 5.7600e+02, 1.3824e+04],\n",
       "       [1.0000e+00, 2.5000e+01, 6.2500e+02, 1.5625e+04],\n",
       "       [1.0000e+00, 2.6000e+01, 6.7600e+02, 1.7576e+04]])"
      ]
     },
     "execution_count": 102,
     "metadata": {},
     "output_type": "execute_result"
    }
   ],
   "source": [
    "#Definimos un modelo f(x) = B0 + B1*x + B1*x**2 + B1*x**3\n",
    "def funcion_de_costo3(beta, X, y):\n",
    "    beta = np.reshape(beta, [4, -1]) #porque beta es tiene 4 elementos, el -1 es para siempre\n",
    "    pred = X @ beta  #@ es para que se haga la multiplicacion respetando algebra lineal \n",
    "    costo = (y-pred).T @ (y-pred)\n",
    "    return costo[0][0] #para quitar los corchetes en la respuesta\n",
    "\n",
    "# Construyendo matriz X \n",
    "ones = np.ones([len(data), 1]) # m renglones y 1 columna de unos\n",
    "x_1 = np.reshape(x, [len(data), -1]) # columna de factor x con m renglones y 1 columna\n",
    "x_2 = np.reshape(x**2, [len(data), -1])\n",
    "x_3 = np.reshape(x**3, [len(data), -1])\n",
    "\n",
    "X_G3 = np.hstack((ones, x_1, x_2, x_3)) #amontonar en la matriz X (stack) en horizontal (h)\n",
    "X_G3"
   ]
  },
  {
   "cell_type": "code",
   "execution_count": 103,
   "metadata": {},
   "outputs": [
    {
     "data": {
      "text/plain": [
       "162859342.7669383"
      ]
     },
     "execution_count": 103,
     "metadata": {},
     "output_type": "execute_result"
    }
   ],
   "source": [
    "beta_inicial_G3 = np.random.rand(4) #vector aleatorio de 4 porque beta tiene 4 elementos\n",
    "y = np.reshape(data, [len(data), -1])\n",
    "funcion_de_costo3(beta_inicial_G3, X_G3, y)"
   ]
  },
  {
   "cell_type": "code",
   "execution_count": 104,
   "metadata": {},
   "outputs": [
    {
     "data": {
      "text/plain": [
       "      fun: 0.8404346753189043\n",
       " hess_inv: array([[ 2.27239563e-01, -6.41154315e-02,  4.83488433e-03,\n",
       "        -1.06428272e-04],\n",
       "       [-6.41154315e-02,  2.61882159e-02, -2.28212620e-03,\n",
       "         5.43057072e-05],\n",
       "       [ 4.83488433e-03, -2.28212620e-03,  2.13850651e-04,\n",
       "        -5.32141352e-06],\n",
       "       [-1.06428272e-04,  5.43057072e-05, -5.32141352e-06,\n",
       "         1.36446501e-07]])\n",
       "      jac: array([-2.23517418e-07, -7.45058060e-09, -1.07288361e-06, -3.21865082e-06])\n",
       "  message: 'Optimization terminated successfully.'\n",
       "     nfev: 45\n",
       "      nit: 5\n",
       "     njev: 9\n",
       "   status: 0\n",
       "  success: True\n",
       "        x: array([9.56752293e+00, 8.46496003e-02, 3.20207310e-03, 3.04659986e-05])"
      ]
     },
     "execution_count": 104,
     "metadata": {},
     "output_type": "execute_result"
    }
   ],
   "source": [
    "import scipy.optimize as opt\n",
    "sol_G3 = opt.minimize(funcion_de_costo3,\n",
    "                  beta_inicial_G3,\n",
    "                  args=(X_G3, y))\n",
    "sol_G3"
   ]
  },
  {
   "cell_type": "code",
   "execution_count": 105,
   "metadata": {},
   "outputs": [
    {
     "data": {
      "image/png": "[encoded data removed]",
      "text/plain": [
       "<Figure size 432x288 with 1 Axes>"
      ]
     },
     "metadata": {
      "needs_background": "light"
     },
     "output_type": "display_data"
    }
   ],
   "source": [
    "y_predG1 = 9.11567639 + 0.18667055*x\n",
    "y_predG2 = 9.59131226e+00 + 7.25187163e-02*x + 4.39043747e-03*x**2\n",
    "y_predG3 = 9.56752298e+00 + 8.46495861e-02*x + 3.20207416e-03*x**2 + 3.04659754e-05*x**3\n",
    "\n",
    "import matplotlib.pyplot as plt\n",
    "%matplotlib inline\n",
    "plt.figure()\n",
    "plt.scatter (x, data)\n",
    "plt.plot(x, y_predG1, \"r\", label=\"Grado 1\")\n",
    "plt.plot(x, y_predG2, \"b\", label=\"Grado 2\",linewidth=3) #para que la se vea alrededor\n",
    "plt.plot(x, y_predG3, \"g\", label=\"Grado 3\")\n",
    "plt.legend()\n",
    "plt.grid()"
   ]
  },
  {
   "cell_type": "markdown",
   "metadata": {},
   "source": [
    "---"
   ]
  },
  {
   "cell_type": "markdown",
   "metadata": {},
   "source": [
    "___\n",
    "### Problema 2\n",
    "\n",
    "El archivo `population_data.csv` contiene información histórica anual de México relativa a la población, nacimientos y muertes desde el año 1950 hasta el año 2015. La primer columna corresponde a los años, la segunda a la población, la tercera a los nacimientos y la última a los decesos.\n",
    "\n",
    "Tomado de: https://en.wikipedia.org/wiki/Demographics_of_Mexico.\n",
    "\n",
    "Importe estos datos usando la función `read_csv` del paquete `pandas`\n",
    "\n",
    "1. Usando los años como variable independiente $x$ y la población como variable dependiente $y$, ajustar polinomios de grado 1 hasta grado 3.\n",
    "\n",
    "    * Mostrar en un solo gráfico los datos de población contra los años, y los polinomios ajustados.\n",
    "\n",
    "    * Graficar el error cuadrático acumulado contra el número de términos.\n",
    "\n",
    "2. Repetir el punto 1 usando los nacimientos como variable dependiente $y$. Grafique las curvas ajustadas junto con los datos de nacimientos. Vea en un gráfico el error acumulado."
   ]
  },
  {
   "cell_type": "markdown",
   "metadata": {},
   "source": [
    "---"
   ]
  },
  {
   "cell_type": "code",
   "execution_count": 106,
   "metadata": {},
   "outputs": [
    {
     "data": {
      "text/html": [
       "<div>\n",
       "<style scoped>\n",
       "    .dataframe tbody tr th:only-of-type {\n",
       "        vertical-align: middle;\n",
       "    }\n",
       "\n",
       "    .dataframe tbody tr th {\n",
       "        vertical-align: top;\n",
       "    }\n",
       "\n",
       "    .dataframe thead th {\n",
       "        text-align: right;\n",
       "    }\n",
       "</style>\n",
       "<table border=\"1\" class=\"dataframe\">\n",
       "  <thead>\n",
       "    <tr style=\"text-align: right;\">\n",
       "      <th></th>\n",
       "      <th>Year</th>\n",
       "      <th>Poblacion</th>\n",
       "      <th>Nacimientos</th>\n",
       "      <th>Decesos</th>\n",
       "    </tr>\n",
       "  </thead>\n",
       "  <tbody>\n",
       "    <tr>\n",
       "      <th>0</th>\n",
       "      <td>1950</td>\n",
       "      <td>28296</td>\n",
       "      <td>1174947</td>\n",
       "      <td>418430</td>\n",
       "    </tr>\n",
       "    <tr>\n",
       "      <th>1</th>\n",
       "      <td>1951</td>\n",
       "      <td>29110</td>\n",
       "      <td>1183788</td>\n",
       "      <td>458238</td>\n",
       "    </tr>\n",
       "    <tr>\n",
       "      <th>2</th>\n",
       "      <td>1952</td>\n",
       "      <td>29980</td>\n",
       "      <td>1195209</td>\n",
       "      <td>408823</td>\n",
       "    </tr>\n",
       "    <tr>\n",
       "      <th>3</th>\n",
       "      <td>1953</td>\n",
       "      <td>30904</td>\n",
       "      <td>1261775</td>\n",
       "      <td>446127</td>\n",
       "    </tr>\n",
       "    <tr>\n",
       "      <th>4</th>\n",
       "      <td>1954</td>\n",
       "      <td>31880</td>\n",
       "      <td>1339837</td>\n",
       "      <td>378752</td>\n",
       "    </tr>\n",
       "    <tr>\n",
       "      <th>...</th>\n",
       "      <td>...</td>\n",
       "      <td>...</td>\n",
       "      <td>...</td>\n",
       "      <td>...</td>\n",
       "    </tr>\n",
       "    <tr>\n",
       "      <th>61</th>\n",
       "      <td>2011</td>\n",
       "      <td>115683</td>\n",
       "      <td>2586287</td>\n",
       "      <td>590693</td>\n",
       "    </tr>\n",
       "    <tr>\n",
       "      <th>62</th>\n",
       "      <td>2012</td>\n",
       "      <td>117054</td>\n",
       "      <td>2498880</td>\n",
       "      <td>602354</td>\n",
       "    </tr>\n",
       "    <tr>\n",
       "      <th>63</th>\n",
       "      <td>2013</td>\n",
       "      <td>118395</td>\n",
       "      <td>2478889</td>\n",
       "      <td>623599</td>\n",
       "    </tr>\n",
       "    <tr>\n",
       "      <th>64</th>\n",
       "      <td>2014</td>\n",
       "      <td>119713</td>\n",
       "      <td>2463420</td>\n",
       "      <td>633641</td>\n",
       "    </tr>\n",
       "    <tr>\n",
       "      <th>65</th>\n",
       "      <td>2015</td>\n",
       "      <td>121005</td>\n",
       "      <td>2353596</td>\n",
       "      <td>655694</td>\n",
       "    </tr>\n",
       "  </tbody>\n",
       "</table>\n",
       "<p>66 rows × 4 columns</p>\n",
       "</div>"
      ],
      "text/plain": [
       "    Year  Poblacion  Nacimientos  Decesos\n",
       "0   1950      28296      1174947   418430\n",
       "1   1951      29110      1183788   458238\n",
       "2   1952      29980      1195209   408823\n",
       "3   1953      30904      1261775   446127\n",
       "4   1954      31880      1339837   378752\n",
       "..   ...        ...          ...      ...\n",
       "61  2011     115683      2586287   590693\n",
       "62  2012     117054      2498880   602354\n",
       "63  2013     118395      2478889   623599\n",
       "64  2014     119713      2463420   633641\n",
       "65  2015     121005      2353596   655694\n",
       "\n",
       "[66 rows x 4 columns]"
      ]
     },
     "execution_count": 106,
     "metadata": {},
     "output_type": "execute_result"
    }
   ],
   "source": [
    "import pandas as pd\n",
    "data=pd.read_csv(\"population_data.csv\")\n",
    "data"
   ]
  },
  {
   "cell_type": "markdown",
   "metadata": {},
   "source": [
    "1. Usando los años como variable independiente  𝑥  y la población como variable dependiente  𝑦 , ajustar polinomios de grado 1 hasta grado 3. "
   ]
  },
  {
   "cell_type": "code",
   "execution_count": 107,
   "metadata": {},
   "outputs": [
    {
     "data": {
      "image/png": "[encoded data removed]",
      "text/plain": [
       "<Figure size 432x288 with 1 Axes>"
      ]
     },
     "metadata": {
      "needs_background": "light"
     },
     "output_type": "display_data"
    }
   ],
   "source": [
    "x=np.array(data[\"Year\"])\n",
    "y=np.array(data[\"Poblacion\"])\n",
    "\n",
    "plt.figure()\n",
    "plt.scatter(x, y)\n",
    "plt.plot(x, y, \"r\" )\n",
    "plt.grid()"
   ]
  },
  {
   "cell_type": "code",
   "execution_count": 108,
   "metadata": {},
   "outputs": [
    {
     "data": {
      "text/plain": [
       "array([[1.000e+00, 1.950e+03],\n",
       "       [1.000e+00, 1.951e+03],\n",
       "       [1.000e+00, 1.952e+03],\n",
       "       [1.000e+00, 1.953e+03],\n",
       "       [1.000e+00, 1.954e+03],\n",
       "       [1.000e+00, 1.955e+03],\n",
       "       [1.000e+00, 1.956e+03],\n",
       "       [1.000e+00, 1.957e+03],\n",
       "       [1.000e+00, 1.958e+03],\n",
       "       [1.000e+00, 1.959e+03],\n",
       "       [1.000e+00, 1.960e+03],\n",
       "       [1.000e+00, 1.961e+03],\n",
       "       [1.000e+00, 1.962e+03],\n",
       "       [1.000e+00, 1.963e+03],\n",
       "       [1.000e+00, 1.964e+03],\n",
       "       [1.000e+00, 1.965e+03],\n",
       "       [1.000e+00, 1.966e+03],\n",
       "       [1.000e+00, 1.967e+03],\n",
       "       [1.000e+00, 1.968e+03],\n",
       "       [1.000e+00, 1.969e+03],\n",
       "       [1.000e+00, 1.970e+03],\n",
       "       [1.000e+00, 1.971e+03],\n",
       "       [1.000e+00, 1.972e+03],\n",
       "       [1.000e+00, 1.973e+03],\n",
       "       [1.000e+00, 1.974e+03],\n",
       "       [1.000e+00, 1.975e+03],\n",
       "       [1.000e+00, 1.976e+03],\n",
       "       [1.000e+00, 1.977e+03],\n",
       "       [1.000e+00, 1.978e+03],\n",
       "       [1.000e+00, 1.979e+03],\n",
       "       [1.000e+00, 1.980e+03],\n",
       "       [1.000e+00, 1.981e+03],\n",
       "       [1.000e+00, 1.982e+03],\n",
       "       [1.000e+00, 1.983e+03],\n",
       "       [1.000e+00, 1.984e+03],\n",
       "       [1.000e+00, 1.985e+03],\n",
       "       [1.000e+00, 1.986e+03],\n",
       "       [1.000e+00, 1.987e+03],\n",
       "       [1.000e+00, 1.988e+03],\n",
       "       [1.000e+00, 1.989e+03],\n",
       "       [1.000e+00, 1.990e+03],\n",
       "       [1.000e+00, 1.991e+03],\n",
       "       [1.000e+00, 1.992e+03],\n",
       "       [1.000e+00, 1.993e+03],\n",
       "       [1.000e+00, 1.994e+03],\n",
       "       [1.000e+00, 1.995e+03],\n",
       "       [1.000e+00, 1.996e+03],\n",
       "       [1.000e+00, 1.997e+03],\n",
       "       [1.000e+00, 1.998e+03],\n",
       "       [1.000e+00, 1.999e+03],\n",
       "       [1.000e+00, 2.000e+03],\n",
       "       [1.000e+00, 2.001e+03],\n",
       "       [1.000e+00, 2.002e+03],\n",
       "       [1.000e+00, 2.003e+03],\n",
       "       [1.000e+00, 2.004e+03],\n",
       "       [1.000e+00, 2.005e+03],\n",
       "       [1.000e+00, 2.006e+03],\n",
       "       [1.000e+00, 2.007e+03],\n",
       "       [1.000e+00, 2.008e+03],\n",
       "       [1.000e+00, 2.009e+03],\n",
       "       [1.000e+00, 2.010e+03],\n",
       "       [1.000e+00, 2.011e+03],\n",
       "       [1.000e+00, 2.012e+03],\n",
       "       [1.000e+00, 2.013e+03],\n",
       "       [1.000e+00, 2.014e+03],\n",
       "       [1.000e+00, 2.015e+03]])"
      ]
     },
     "execution_count": 108,
     "metadata": {},
     "output_type": "execute_result"
    }
   ],
   "source": [
    "#Definimos un modelo f(x) = B0 + B1*x\n",
    "def funcion_de_costo(beta, X, y):\n",
    "    beta = np.reshape(beta, [2, -1]) #porque beta es tiene 2 elementos, el -1 es para siempre\n",
    "    pred = X @ beta  #@ es para que se haga la multiplicacion respetando algebra lineal \n",
    "    costo = (y-pred).T @ (y-pred)\n",
    "    return costo[0][0] #para quitar los corchetes en la respuesta\n",
    "\n",
    "# Construyendo matriz X \n",
    "ones = np.ones([len(y), 1]) # m renglones y 1 columna de unos\n",
    "x_1 = np.reshape(x, [len(y), -1]) # columna de factor x con m renglones y 1 columna\n",
    "\n",
    "\n",
    "X_G1 = np.hstack((ones, x_1)) #amontonar en la matriz X (stack) en horizontal (h)\n",
    "X_G1"
   ]
  },
  {
   "cell_type": "code",
   "execution_count": 109,
   "metadata": {},
   "outputs": [
    {
     "data": {
      "text/plain": [
       "419064319387.62524"
      ]
     },
     "execution_count": 109,
     "metadata": {},
     "output_type": "execute_result"
    }
   ],
   "source": [
    "beta_inicial_G1 = np.random.rand(2) #vector aleatorio de 2 porque beta tiene 4 elementos\n",
    "y = np.reshape(y, [len(y), -1])\n",
    "funcion_de_costo(beta_inicial_G1, X_G1, y)"
   ]
  },
  {
   "cell_type": "code",
   "execution_count": 110,
   "metadata": {},
   "outputs": [
    {
     "data": {
      "text/plain": [
       "      fun: 212137173.41377202\n",
       " hess_inv: array([[ 5.40511710e+01, -2.72616154e-02],\n",
       "       [-2.72616154e-02,  1.37517590e-05]])\n",
       "      jac: array([-2.00e+00, -3.94e+03])\n",
       "  message: 'Desired error not necessarily achieved due to precision loss.'\n",
       "     nfev: 156\n",
       "      nit: 10\n",
       "     njev: 48\n",
       "   status: 2\n",
       "  success: False\n",
       "        x: array([-2.98658498e+06,  1.54396071e+03])"
      ]
     },
     "execution_count": 110,
     "metadata": {},
     "output_type": "execute_result"
    }
   ],
   "source": [
    "import scipy.optimize as opt\n",
    "sol_G1 = opt.minimize(funcion_de_costo,\n",
    "                  beta_inicial_G1,\n",
    "                  args=(X_G1, y))\n",
    "sol_G1"
   ]
  },
  {
   "cell_type": "code",
   "execution_count": 111,
   "metadata": {},
   "outputs": [
    {
     "data": {
      "text/plain": [
       "array([[1.000000e+00, 1.950000e+03, 3.802500e+06],\n",
       "       [1.000000e+00, 1.951000e+03, 3.806401e+06],\n",
       "       [1.000000e+00, 1.952000e+03, 3.810304e+06],\n",
       "       [1.000000e+00, 1.953000e+03, 3.814209e+06],\n",
       "       [1.000000e+00, 1.954000e+03, 3.818116e+06],\n",
       "       [1.000000e+00, 1.955000e+03, 3.822025e+06],\n",
       "       [1.000000e+00, 1.956000e+03, 3.825936e+06],\n",
       "       [1.000000e+00, 1.957000e+03, 3.829849e+06],\n",
       "       [1.000000e+00, 1.958000e+03, 3.833764e+06],\n",
       "       [1.000000e+00, 1.959000e+03, 3.837681e+06],\n",
       "       [1.000000e+00, 1.960000e+03, 3.841600e+06],\n",
       "       [1.000000e+00, 1.961000e+03, 3.845521e+06],\n",
       "       [1.000000e+00, 1.962000e+03, 3.849444e+06],\n",
       "       [1.000000e+00, 1.963000e+03, 3.853369e+06],\n",
       "       [1.000000e+00, 1.964000e+03, 3.857296e+06],\n",
       "       [1.000000e+00, 1.965000e+03, 3.861225e+06],\n",
       "       [1.000000e+00, 1.966000e+03, 3.865156e+06],\n",
       "       [1.000000e+00, 1.967000e+03, 3.869089e+06],\n",
       "       [1.000000e+00, 1.968000e+03, 3.873024e+06],\n",
       "       [1.000000e+00, 1.969000e+03, 3.876961e+06],\n",
       "       [1.000000e+00, 1.970000e+03, 3.880900e+06],\n",
       "       [1.000000e+00, 1.971000e+03, 3.884841e+06],\n",
       "       [1.000000e+00, 1.972000e+03, 3.888784e+06],\n",
       "       [1.000000e+00, 1.973000e+03, 3.892729e+06],\n",
       "       [1.000000e+00, 1.974000e+03, 3.896676e+06],\n",
       "       [1.000000e+00, 1.975000e+03, 3.900625e+06],\n",
       "       [1.000000e+00, 1.976000e+03, 3.904576e+06],\n",
       "       [1.000000e+00, 1.977000e+03, 3.908529e+06],\n",
       "       [1.000000e+00, 1.978000e+03, 3.912484e+06],\n",
       "       [1.000000e+00, 1.979000e+03, 3.916441e+06],\n",
       "       [1.000000e+00, 1.980000e+03, 3.920400e+06],\n",
       "       [1.000000e+00, 1.981000e+03, 3.924361e+06],\n",
       "       [1.000000e+00, 1.982000e+03, 3.928324e+06],\n",
       "       [1.000000e+00, 1.983000e+03, 3.932289e+06],\n",
       "       [1.000000e+00, 1.984000e+03, 3.936256e+06],\n",
       "       [1.000000e+00, 1.985000e+03, 3.940225e+06],\n",
       "       [1.000000e+00, 1.986000e+03, 3.944196e+06],\n",
       "       [1.000000e+00, 1.987000e+03, 3.948169e+06],\n",
       "       [1.000000e+00, 1.988000e+03, 3.952144e+06],\n",
       "       [1.000000e+00, 1.989000e+03, 3.956121e+06],\n",
       "       [1.000000e+00, 1.990000e+03, 3.960100e+06],\n",
       "       [1.000000e+00, 1.991000e+03, 3.964081e+06],\n",
       "       [1.000000e+00, 1.992000e+03, 3.968064e+06],\n",
       "       [1.000000e+00, 1.993000e+03, 3.972049e+06],\n",
       "       [1.000000e+00, 1.994000e+03, 3.976036e+06],\n",
       "       [1.000000e+00, 1.995000e+03, 3.980025e+06],\n",
       "       [1.000000e+00, 1.996000e+03, 3.984016e+06],\n",
       "       [1.000000e+00, 1.997000e+03, 3.988009e+06],\n",
       "       [1.000000e+00, 1.998000e+03, 3.992004e+06],\n",
       "       [1.000000e+00, 1.999000e+03, 3.996001e+06],\n",
       "       [1.000000e+00, 2.000000e+03, 4.000000e+06],\n",
       "       [1.000000e+00, 2.001000e+03, 4.004001e+06],\n",
       "       [1.000000e+00, 2.002000e+03, 4.008004e+06],\n",
       "       [1.000000e+00, 2.003000e+03, 4.012009e+06],\n",
       "       [1.000000e+00, 2.004000e+03, 4.016016e+06],\n",
       "       [1.000000e+00, 2.005000e+03, 4.020025e+06],\n",
       "       [1.000000e+00, 2.006000e+03, 4.024036e+06],\n",
       "       [1.000000e+00, 2.007000e+03, 4.028049e+06],\n",
       "       [1.000000e+00, 2.008000e+03, 4.032064e+06],\n",
       "       [1.000000e+00, 2.009000e+03, 4.036081e+06],\n",
       "       [1.000000e+00, 2.010000e+03, 4.040100e+06],\n",
       "       [1.000000e+00, 2.011000e+03, 4.044121e+06],\n",
       "       [1.000000e+00, 2.012000e+03, 4.048144e+06],\n",
       "       [1.000000e+00, 2.013000e+03, 4.052169e+06],\n",
       "       [1.000000e+00, 2.014000e+03, 4.056196e+06],\n",
       "       [1.000000e+00, 2.015000e+03, 4.060225e+06]])"
      ]
     },
     "execution_count": 111,
     "metadata": {},
     "output_type": "execute_result"
    }
   ],
   "source": [
    "#Definimos un modelo f(x) = B0 + B1*x + B1*x**2\n",
    "def funcion_de_costo2(beta, X, y):\n",
    "    beta = np.reshape(beta, [3, -1]) #porque beta es tiene 3 elementos, el -1 es para siempre\n",
    "    pred = X @ beta  #@ es para que se haga la multiplicacion respetando algebra lineal \n",
    "    costo = (y-pred).T @ (y-pred)\n",
    "    return costo[0][0] #para quitar los corchetes en la respuesta\n",
    "\n",
    "# Construyendo matriz X \n",
    "ones = np.ones([len(y), 1]) # m renglones y 1 columna de unos\n",
    "x_1 = np.reshape(x, [len(y), -1]) # columna de factor x con m renglones y 1 columna\n",
    "x_2 = np.reshape(x**2, [len(y), -1])\n",
    "\n",
    "X_G2 = np.hstack((ones, x_1, x_2)) #amontonar en la matriz X (stack) en horizontal (h)\n",
    "X_G2"
   ]
  },
  {
   "cell_type": "code",
   "execution_count": 112,
   "metadata": {},
   "outputs": [
    {
     "data": {
      "text/plain": [
       "288046800495303.4"
      ]
     },
     "execution_count": 112,
     "metadata": {},
     "output_type": "execute_result"
    }
   ],
   "source": [
    "beta_inicial_G2 = np.random.rand(3) #vector aleatorio de 3 porque beta tiene 4 elementos\n",
    "y = np.reshape(y, [len(y), -1])\n",
    "funcion_de_costo2(beta_inicial_G2, X_G2, y)"
   ]
  },
  {
   "cell_type": "code",
   "execution_count": 113,
   "metadata": {},
   "outputs": [
    {
     "data": {
      "text/plain": [
       "      fun: 211547355.1095679\n",
       " hess_inv: array([[ 2.00327548e+06, -2.02097950e+03,  5.09641186e-01],\n",
       "       [-2.02097951e+03,  2.03886086e+00, -5.14155684e-04],\n",
       "       [ 5.09641188e-01, -5.14155683e-04,  1.29660035e-07]])\n",
       "      jac: array([1.12140000e+04, 2.22353580e+07, 4.41038346e+10])\n",
       "  message: 'Desired error not necessarily achieved due to precision loss.'\n",
       "     nfev: 222\n",
       "      nit: 9\n",
       "     njev: 53\n",
       "   status: 2\n",
       "  success: False\n",
       "        x: array([-8.20544200e+05, -6.41340343e+02,  5.51153876e-01])"
      ]
     },
     "execution_count": 113,
     "metadata": {},
     "output_type": "execute_result"
    }
   ],
   "source": [
    "import scipy.optimize as opt\n",
    "sol_G2 = opt.minimize(funcion_de_costo2,\n",
    "                  beta_inicial_G2,\n",
    "                  args=(X_G2, y))\n",
    "sol_G2"
   ]
  },
  {
   "cell_type": "code",
   "execution_count": 114,
   "metadata": {},
   "outputs": [
    {
     "data": {
      "text/plain": [
       "array([[1.00000000e+00, 1.95000000e+03, 3.80250000e+06, 7.41487500e+09],\n",
       "       [1.00000000e+00, 1.95100000e+03, 3.80640100e+06, 7.42628835e+09],\n",
       "       [1.00000000e+00, 1.95200000e+03, 3.81030400e+06, 7.43771341e+09],\n",
       "       [1.00000000e+00, 1.95300000e+03, 3.81420900e+06, 7.44915018e+09],\n",
       "       [1.00000000e+00, 1.95400000e+03, 3.81811600e+06, 7.46059866e+09],\n",
       "       [1.00000000e+00, 1.95500000e+03, 3.82202500e+06, 7.47205888e+09],\n",
       "       [1.00000000e+00, 1.95600000e+03, 3.82593600e+06, 7.48353082e+09],\n",
       "       [1.00000000e+00, 1.95700000e+03, 3.82984900e+06, 7.49501449e+09],\n",
       "       [1.00000000e+00, 1.95800000e+03, 3.83376400e+06, 7.50650991e+09],\n",
       "       [1.00000000e+00, 1.95900000e+03, 3.83768100e+06, 7.51801708e+09],\n",
       "       [1.00000000e+00, 1.96000000e+03, 3.84160000e+06, 7.52953600e+09],\n",
       "       [1.00000000e+00, 1.96100000e+03, 3.84552100e+06, 7.54106668e+09],\n",
       "       [1.00000000e+00, 1.96200000e+03, 3.84944400e+06, 7.55260913e+09],\n",
       "       [1.00000000e+00, 1.96300000e+03, 3.85336900e+06, 7.56416335e+09],\n",
       "       [1.00000000e+00, 1.96400000e+03, 3.85729600e+06, 7.57572934e+09],\n",
       "       [1.00000000e+00, 1.96500000e+03, 3.86122500e+06, 7.58730712e+09],\n",
       "       [1.00000000e+00, 1.96600000e+03, 3.86515600e+06, 7.59889670e+09],\n",
       "       [1.00000000e+00, 1.96700000e+03, 3.86908900e+06, 7.61049806e+09],\n",
       "       [1.00000000e+00, 1.96800000e+03, 3.87302400e+06, 7.62211123e+09],\n",
       "       [1.00000000e+00, 1.96900000e+03, 3.87696100e+06, 7.63373621e+09],\n",
       "       [1.00000000e+00, 1.97000000e+03, 3.88090000e+06, 7.64537300e+09],\n",
       "       [1.00000000e+00, 1.97100000e+03, 3.88484100e+06, 7.65702161e+09],\n",
       "       [1.00000000e+00, 1.97200000e+03, 3.88878400e+06, 7.66868205e+09],\n",
       "       [1.00000000e+00, 1.97300000e+03, 3.89272900e+06, 7.68035432e+09],\n",
       "       [1.00000000e+00, 1.97400000e+03, 3.89667600e+06, 7.69203842e+09],\n",
       "       [1.00000000e+00, 1.97500000e+03, 3.90062500e+06, 7.70373438e+09],\n",
       "       [1.00000000e+00, 1.97600000e+03, 3.90457600e+06, 7.71544218e+09],\n",
       "       [1.00000000e+00, 1.97700000e+03, 3.90852900e+06, 7.72716183e+09],\n",
       "       [1.00000000e+00, 1.97800000e+03, 3.91248400e+06, 7.73889335e+09],\n",
       "       [1.00000000e+00, 1.97900000e+03, 3.91644100e+06, 7.75063674e+09],\n",
       "       [1.00000000e+00, 1.98000000e+03, 3.92040000e+06, 7.76239200e+09],\n",
       "       [1.00000000e+00, 1.98100000e+03, 3.92436100e+06, 7.77415914e+09],\n",
       "       [1.00000000e+00, 1.98200000e+03, 3.92832400e+06, 7.78593817e+09],\n",
       "       [1.00000000e+00, 1.98300000e+03, 3.93228900e+06, 7.79772909e+09],\n",
       "       [1.00000000e+00, 1.98400000e+03, 3.93625600e+06, 7.80953190e+09],\n",
       "       [1.00000000e+00, 1.98500000e+03, 3.94022500e+06, 7.82134662e+09],\n",
       "       [1.00000000e+00, 1.98600000e+03, 3.94419600e+06, 7.83317326e+09],\n",
       "       [1.00000000e+00, 1.98700000e+03, 3.94816900e+06, 7.84501180e+09],\n",
       "       [1.00000000e+00, 1.98800000e+03, 3.95214400e+06, 7.85686227e+09],\n",
       "       [1.00000000e+00, 1.98900000e+03, 3.95612100e+06, 7.86872467e+09],\n",
       "       [1.00000000e+00, 1.99000000e+03, 3.96010000e+06, 7.88059900e+09],\n",
       "       [1.00000000e+00, 1.99100000e+03, 3.96408100e+06, 7.89248527e+09],\n",
       "       [1.00000000e+00, 1.99200000e+03, 3.96806400e+06, 7.90438349e+09],\n",
       "       [1.00000000e+00, 1.99300000e+03, 3.97204900e+06, 7.91629366e+09],\n",
       "       [1.00000000e+00, 1.99400000e+03, 3.97603600e+06, 7.92821578e+09],\n",
       "       [1.00000000e+00, 1.99500000e+03, 3.98002500e+06, 7.94014988e+09],\n",
       "       [1.00000000e+00, 1.99600000e+03, 3.98401600e+06, 7.95209594e+09],\n",
       "       [1.00000000e+00, 1.99700000e+03, 3.98800900e+06, 7.96405397e+09],\n",
       "       [1.00000000e+00, 1.99800000e+03, 3.99200400e+06, 7.97602399e+09],\n",
       "       [1.00000000e+00, 1.99900000e+03, 3.99600100e+06, 7.98800600e+09],\n",
       "       [1.00000000e+00, 2.00000000e+03, 4.00000000e+06, 8.00000000e+09],\n",
       "       [1.00000000e+00, 2.00100000e+03, 4.00400100e+06, 8.01200600e+09],\n",
       "       [1.00000000e+00, 2.00200000e+03, 4.00800400e+06, 8.02402401e+09],\n",
       "       [1.00000000e+00, 2.00300000e+03, 4.01200900e+06, 8.03605403e+09],\n",
       "       [1.00000000e+00, 2.00400000e+03, 4.01601600e+06, 8.04809606e+09],\n",
       "       [1.00000000e+00, 2.00500000e+03, 4.02002500e+06, 8.06015012e+09],\n",
       "       [1.00000000e+00, 2.00600000e+03, 4.02403600e+06, 8.07221622e+09],\n",
       "       [1.00000000e+00, 2.00700000e+03, 4.02804900e+06, 8.08429434e+09],\n",
       "       [1.00000000e+00, 2.00800000e+03, 4.03206400e+06, 8.09638451e+09],\n",
       "       [1.00000000e+00, 2.00900000e+03, 4.03608100e+06, 8.10848673e+09],\n",
       "       [1.00000000e+00, 2.01000000e+03, 4.04010000e+06, 8.12060100e+09],\n",
       "       [1.00000000e+00, 2.01100000e+03, 4.04412100e+06, 8.13272733e+09],\n",
       "       [1.00000000e+00, 2.01200000e+03, 4.04814400e+06, 8.14486573e+09],\n",
       "       [1.00000000e+00, 2.01300000e+03, 4.05216900e+06, 8.15701620e+09],\n",
       "       [1.00000000e+00, 2.01400000e+03, 4.05619600e+06, 8.16917874e+09],\n",
       "       [1.00000000e+00, 2.01500000e+03, 4.06022500e+06, 8.18135338e+09]])"
      ]
     },
     "execution_count": 114,
     "metadata": {},
     "output_type": "execute_result"
    }
   ],
   "source": [
    "#Definimos un modelo f(x) = B0 + B1*x + B1*x**2 + B1*x**3\n",
    "def funcion_de_costo3(beta, X, y):\n",
    "    beta = np.reshape(beta, [4, -1]) #porque beta es tiene 4 elementos, el -1 es para siempre\n",
    "    pred = X @ beta  #@ es para que se haga la multiplicacion respetando algebra lineal \n",
    "    costo = (y-pred).T @ (y-pred)\n",
    "    return costo[0][0] #para quitar los corchetes en la respuesta\n",
    "\n",
    "# Construyendo matriz X \n",
    "ones = np.ones([len(y), 1]) # m renglones y 1 columna de unos\n",
    "x_1 = np.reshape(x, [len(y), -1]) # columna de factor x con m renglones y 1 columna\n",
    "x_2 = np.reshape(x**2, [len(y), -1])\n",
    "x_3 = np.reshape(x**3, [len(y), -1])\n",
    "\n",
    "X_G3 = np.hstack((ones, x_1, x_2, x_3)) #amontonar en la matriz X (stack) en horizontal (h)\n",
    "X_G3"
   ]
  },
  {
   "cell_type": "code",
   "execution_count": 115,
   "metadata": {},
   "outputs": [
    {
     "data": {
      "text/plain": [
       "2.4459943350487704e+19"
      ]
     },
     "execution_count": 115,
     "metadata": {},
     "output_type": "execute_result"
    }
   ],
   "source": [
    "beta_inicial_G3 = np.random.rand(4) #vector aleatorio de 4 porque beta tiene 4 elementos\n",
    "y = np.reshape(y, [len(y), -1])\n",
    "funcion_de_costo3(beta_inicial_G3, X_G3, y)"
   ]
  },
  {
   "cell_type": "code",
   "execution_count": 116,
   "metadata": {},
   "outputs": [
    {
     "data": {
      "text/plain": [
       "      fun: 2504705414.231513\n",
       " hess_inv: array([[ 1.00000000e+00, -7.73129003e-10, -7.69704499e-07,\n",
       "         3.88070805e-10],\n",
       "       [-7.73129003e-10,  9.99998985e-01, -1.00881074e-03,\n",
       "         2.54615112e-07],\n",
       "       [-7.69704499e-07, -1.00881074e-03,  1.01770605e-06,\n",
       "        -2.56861699e-10],\n",
       "       [ 3.88070805e-10,  2.54615112e-07, -2.56861699e-10,\n",
       "         6.48304236e-14]])\n",
       "      jac: array([1.73440000e+04, 1.95612800e+07, 9.45920442e+09, 2.03812380e+13])\n",
       "  message: 'Desired error not necessarily achieved due to precision loss.'\n",
       "     nfev: 337\n",
       "      nit: 2\n",
       "     njev: 65\n",
       "   status: 2\n",
       "  success: False\n",
       "        x: array([ 3.63213801e-01,  2.06592653e-01, -5.66514534e-01,  2.95204328e-04])"
      ]
     },
     "execution_count": 116,
     "metadata": {},
     "output_type": "execute_result"
    }
   ],
   "source": [
    "import scipy.optimize as opt\n",
    "sol_G3 = opt.minimize(funcion_de_costo3,\n",
    "                  beta_inicial_G3,\n",
    "                  args=(X_G3, y))\n",
    "sol_G3"
   ]
  },
  {
   "cell_type": "code",
   "execution_count": 123,
   "metadata": {},
   "outputs": [
    {
     "data": {
      "image/png": "[encoded data removed]",
      "text/plain": [
       "<Figure size 432x288 with 1 Axes>"
      ]
     },
     "metadata": {
      "needs_background": "light"
     },
     "output_type": "display_data"
    }
   ],
   "source": [
    "y_predG1 = -2.98658498e+06 + 1.54396071e+03*x\n",
    "y_predG2 = -8.20544200e+05 - 6.41340343e+02*x + 5.51153876e-01*x**2\n",
    "y_predG3 = 3.63213801e-01 + 2.06592653e-01*x - 5.66514534e-01*x**2 + 2.95204328e-04*x**3\n",
    "\n",
    "import matplotlib.pyplot as plt\n",
    "%matplotlib inline\n",
    "plt.figure()\n",
    "plt.scatter (x, y)\n",
    "plt.plot(x, y_predG1, \"r\", label=\"Grado 1\", linewidth=3)\n",
    "plt.plot(x, y_predG2, \"b\", label=\"Grado 2\")\n",
    "plt.plot(x, y_predG3, \"g\", label=\"Grado 3\")\n",
    "plt.legend()\n",
    "plt.grid()"
   ]
  },
  {
   "cell_type": "markdown",
   "metadata": {},
   "source": [
    "2. Repetir el punto 1 usando los nacimientos como variable dependiente  𝑦 . Grafique las curvas ajustadas junto con los datos de nacimientos."
   ]
  },
  {
   "cell_type": "code",
   "execution_count": 135,
   "metadata": {},
   "outputs": [
    {
     "data": {
      "image/png": "[encoded data removed]",
      "text/plain": [
       "<Figure size 432x288 with 1 Axes>"
      ]
     },
     "metadata": {
      "needs_background": "light"
     },
     "output_type": "display_data"
    }
   ],
   "source": [
    "x=np.array(data[\"Year\"])\n",
    "y=np.array(data[\"Nacimientos\"])\n",
    "\n",
    "plt.figure()\n",
    "plt.scatter(x, y)\n",
    "plt.plot(x, y, \"r\" )\n",
    "plt.grid()"
   ]
  },
  {
   "cell_type": "code",
   "execution_count": 136,
   "metadata": {},
   "outputs": [
    {
     "data": {
      "text/plain": [
       "array([[1.000e+00, 1.950e+03],\n",
       "       [1.000e+00, 1.951e+03],\n",
       "       [1.000e+00, 1.952e+03],\n",
       "       [1.000e+00, 1.953e+03],\n",
       "       [1.000e+00, 1.954e+03],\n",
       "       [1.000e+00, 1.955e+03],\n",
       "       [1.000e+00, 1.956e+03],\n",
       "       [1.000e+00, 1.957e+03],\n",
       "       [1.000e+00, 1.958e+03],\n",
       "       [1.000e+00, 1.959e+03],\n",
       "       [1.000e+00, 1.960e+03],\n",
       "       [1.000e+00, 1.961e+03],\n",
       "       [1.000e+00, 1.962e+03],\n",
       "       [1.000e+00, 1.963e+03],\n",
       "       [1.000e+00, 1.964e+03],\n",
       "       [1.000e+00, 1.965e+03],\n",
       "       [1.000e+00, 1.966e+03],\n",
       "       [1.000e+00, 1.967e+03],\n",
       "       [1.000e+00, 1.968e+03],\n",
       "       [1.000e+00, 1.969e+03],\n",
       "       [1.000e+00, 1.970e+03],\n",
       "       [1.000e+00, 1.971e+03],\n",
       "       [1.000e+00, 1.972e+03],\n",
       "       [1.000e+00, 1.973e+03],\n",
       "       [1.000e+00, 1.974e+03],\n",
       "       [1.000e+00, 1.975e+03],\n",
       "       [1.000e+00, 1.976e+03],\n",
       "       [1.000e+00, 1.977e+03],\n",
       "       [1.000e+00, 1.978e+03],\n",
       "       [1.000e+00, 1.979e+03],\n",
       "       [1.000e+00, 1.980e+03],\n",
       "       [1.000e+00, 1.981e+03],\n",
       "       [1.000e+00, 1.982e+03],\n",
       "       [1.000e+00, 1.983e+03],\n",
       "       [1.000e+00, 1.984e+03],\n",
       "       [1.000e+00, 1.985e+03],\n",
       "       [1.000e+00, 1.986e+03],\n",
       "       [1.000e+00, 1.987e+03],\n",
       "       [1.000e+00, 1.988e+03],\n",
       "       [1.000e+00, 1.989e+03],\n",
       "       [1.000e+00, 1.990e+03],\n",
       "       [1.000e+00, 1.991e+03],\n",
       "       [1.000e+00, 1.992e+03],\n",
       "       [1.000e+00, 1.993e+03],\n",
       "       [1.000e+00, 1.994e+03],\n",
       "       [1.000e+00, 1.995e+03],\n",
       "       [1.000e+00, 1.996e+03],\n",
       "       [1.000e+00, 1.997e+03],\n",
       "       [1.000e+00, 1.998e+03],\n",
       "       [1.000e+00, 1.999e+03],\n",
       "       [1.000e+00, 2.000e+03],\n",
       "       [1.000e+00, 2.001e+03],\n",
       "       [1.000e+00, 2.002e+03],\n",
       "       [1.000e+00, 2.003e+03],\n",
       "       [1.000e+00, 2.004e+03],\n",
       "       [1.000e+00, 2.005e+03],\n",
       "       [1.000e+00, 2.006e+03],\n",
       "       [1.000e+00, 2.007e+03],\n",
       "       [1.000e+00, 2.008e+03],\n",
       "       [1.000e+00, 2.009e+03],\n",
       "       [1.000e+00, 2.010e+03],\n",
       "       [1.000e+00, 2.011e+03],\n",
       "       [1.000e+00, 2.012e+03],\n",
       "       [1.000e+00, 2.013e+03],\n",
       "       [1.000e+00, 2.014e+03],\n",
       "       [1.000e+00, 2.015e+03]])"
      ]
     },
     "execution_count": 136,
     "metadata": {},
     "output_type": "execute_result"
    }
   ],
   "source": [
    "#Definimos un modelo f(x) = B0 + B1*x\n",
    "def funcion_de_costo(beta, X, y):\n",
    "    beta = np.reshape(beta, [2, -1]) #porque beta es tiene 2 elementos, el -1 es para siempre\n",
    "    pred = X @ beta  #@ es para que se haga la multiplicacion respetando algebra lineal \n",
    "    costo = (y-pred).T @ (y-pred)\n",
    "    return costo[0][0] #para quitar los corchetes en la respuesta\n",
    "\n",
    "# Construyendo matriz X \n",
    "ones = np.ones([len(y), 1]) # m renglones y 1 columna de unos\n",
    "x_1 = np.reshape(x, [len(y), -1]) # columna de factor x con m renglones y 1 columna\n",
    "\n",
    "\n",
    "X_G1 = np.hstack((ones, x_1)) #amontonar en la matriz X (stack) en horizontal (h)\n",
    "X_G1"
   ]
  },
  {
   "cell_type": "code",
   "execution_count": 137,
   "metadata": {},
   "outputs": [
    {
     "data": {
      "text/plain": [
       "358525635596972.25"
      ]
     },
     "execution_count": 137,
     "metadata": {},
     "output_type": "execute_result"
    }
   ],
   "source": [
    "beta_inicial_G1 = np.random.rand(2) #vector aleatorio de 2 porque beta tiene 2 elementos\n",
    "y = np.reshape(y, [len(y), -1])\n",
    "funcion_de_costo(beta_inicial_G1, X_G1, y)"
   ]
  },
  {
   "cell_type": "code",
   "execution_count": 138,
   "metadata": {},
   "outputs": [
    {
     "data": {
      "text/plain": [
       "      fun: 4750533499774.645\n",
       " hess_inv: array([[6.82601822e-13, 4.54747351e-13],\n",
       "       [4.54747351e-13, 1.29045430e-09]])\n",
       "      jac: array([0., 0.])\n",
       "  message: 'Optimization terminated successfully.'\n",
       "     nfev: 159\n",
       "      nit: 12\n",
       "     njev: 53\n",
       "   status: 0\n",
       "  success: True\n",
       "        x: array([-3.98517700e+07,  2.12505054e+04])"
      ]
     },
     "execution_count": 138,
     "metadata": {},
     "output_type": "execute_result"
    }
   ],
   "source": [
    "import scipy.optimize as opt\n",
    "sol_G1 = opt.minimize(funcion_de_costo,\n",
    "                  beta_inicial_G1,\n",
    "                  args=(X_G1, y))\n",
    "sol_G1"
   ]
  },
  {
   "cell_type": "code",
   "execution_count": 139,
   "metadata": {},
   "outputs": [
    {
     "data": {
      "text/plain": [
       "array([[1.000000e+00, 1.950000e+03, 3.802500e+06],\n",
       "       [1.000000e+00, 1.951000e+03, 3.806401e+06],\n",
       "       [1.000000e+00, 1.952000e+03, 3.810304e+06],\n",
       "       [1.000000e+00, 1.953000e+03, 3.814209e+06],\n",
       "       [1.000000e+00, 1.954000e+03, 3.818116e+06],\n",
       "       [1.000000e+00, 1.955000e+03, 3.822025e+06],\n",
       "       [1.000000e+00, 1.956000e+03, 3.825936e+06],\n",
       "       [1.000000e+00, 1.957000e+03, 3.829849e+06],\n",
       "       [1.000000e+00, 1.958000e+03, 3.833764e+06],\n",
       "       [1.000000e+00, 1.959000e+03, 3.837681e+06],\n",
       "       [1.000000e+00, 1.960000e+03, 3.841600e+06],\n",
       "       [1.000000e+00, 1.961000e+03, 3.845521e+06],\n",
       "       [1.000000e+00, 1.962000e+03, 3.849444e+06],\n",
       "       [1.000000e+00, 1.963000e+03, 3.853369e+06],\n",
       "       [1.000000e+00, 1.964000e+03, 3.857296e+06],\n",
       "       [1.000000e+00, 1.965000e+03, 3.861225e+06],\n",
       "       [1.000000e+00, 1.966000e+03, 3.865156e+06],\n",
       "       [1.000000e+00, 1.967000e+03, 3.869089e+06],\n",
       "       [1.000000e+00, 1.968000e+03, 3.873024e+06],\n",
       "       [1.000000e+00, 1.969000e+03, 3.876961e+06],\n",
       "       [1.000000e+00, 1.970000e+03, 3.880900e+06],\n",
       "       [1.000000e+00, 1.971000e+03, 3.884841e+06],\n",
       "       [1.000000e+00, 1.972000e+03, 3.888784e+06],\n",
       "       [1.000000e+00, 1.973000e+03, 3.892729e+06],\n",
       "       [1.000000e+00, 1.974000e+03, 3.896676e+06],\n",
       "       [1.000000e+00, 1.975000e+03, 3.900625e+06],\n",
       "       [1.000000e+00, 1.976000e+03, 3.904576e+06],\n",
       "       [1.000000e+00, 1.977000e+03, 3.908529e+06],\n",
       "       [1.000000e+00, 1.978000e+03, 3.912484e+06],\n",
       "       [1.000000e+00, 1.979000e+03, 3.916441e+06],\n",
       "       [1.000000e+00, 1.980000e+03, 3.920400e+06],\n",
       "       [1.000000e+00, 1.981000e+03, 3.924361e+06],\n",
       "       [1.000000e+00, 1.982000e+03, 3.928324e+06],\n",
       "       [1.000000e+00, 1.983000e+03, 3.932289e+06],\n",
       "       [1.000000e+00, 1.984000e+03, 3.936256e+06],\n",
       "       [1.000000e+00, 1.985000e+03, 3.940225e+06],\n",
       "       [1.000000e+00, 1.986000e+03, 3.944196e+06],\n",
       "       [1.000000e+00, 1.987000e+03, 3.948169e+06],\n",
       "       [1.000000e+00, 1.988000e+03, 3.952144e+06],\n",
       "       [1.000000e+00, 1.989000e+03, 3.956121e+06],\n",
       "       [1.000000e+00, 1.990000e+03, 3.960100e+06],\n",
       "       [1.000000e+00, 1.991000e+03, 3.964081e+06],\n",
       "       [1.000000e+00, 1.992000e+03, 3.968064e+06],\n",
       "       [1.000000e+00, 1.993000e+03, 3.972049e+06],\n",
       "       [1.000000e+00, 1.994000e+03, 3.976036e+06],\n",
       "       [1.000000e+00, 1.995000e+03, 3.980025e+06],\n",
       "       [1.000000e+00, 1.996000e+03, 3.984016e+06],\n",
       "       [1.000000e+00, 1.997000e+03, 3.988009e+06],\n",
       "       [1.000000e+00, 1.998000e+03, 3.992004e+06],\n",
       "       [1.000000e+00, 1.999000e+03, 3.996001e+06],\n",
       "       [1.000000e+00, 2.000000e+03, 4.000000e+06],\n",
       "       [1.000000e+00, 2.001000e+03, 4.004001e+06],\n",
       "       [1.000000e+00, 2.002000e+03, 4.008004e+06],\n",
       "       [1.000000e+00, 2.003000e+03, 4.012009e+06],\n",
       "       [1.000000e+00, 2.004000e+03, 4.016016e+06],\n",
       "       [1.000000e+00, 2.005000e+03, 4.020025e+06],\n",
       "       [1.000000e+00, 2.006000e+03, 4.024036e+06],\n",
       "       [1.000000e+00, 2.007000e+03, 4.028049e+06],\n",
       "       [1.000000e+00, 2.008000e+03, 4.032064e+06],\n",
       "       [1.000000e+00, 2.009000e+03, 4.036081e+06],\n",
       "       [1.000000e+00, 2.010000e+03, 4.040100e+06],\n",
       "       [1.000000e+00, 2.011000e+03, 4.044121e+06],\n",
       "       [1.000000e+00, 2.012000e+03, 4.048144e+06],\n",
       "       [1.000000e+00, 2.013000e+03, 4.052169e+06],\n",
       "       [1.000000e+00, 2.014000e+03, 4.056196e+06],\n",
       "       [1.000000e+00, 2.015000e+03, 4.060225e+06]])"
      ]
     },
     "execution_count": 139,
     "metadata": {},
     "output_type": "execute_result"
    }
   ],
   "source": [
    "#Definimos un modelo f(x) = B0 + B1*x + B1*x**2\n",
    "def funcion_de_costo2(beta, X, y):\n",
    "    beta = np.reshape(beta, [3, -1]) #porque beta es tiene 3 elementos, el -1 es para siempre\n",
    "    pred = X @ beta  #@ es para que se haga la multiplicacion respetando algebra lineal \n",
    "    costo = (y-pred).T @ (y-pred)\n",
    "    return costo[0][0] #para quitar los corchetes en la respuesta\n",
    "\n",
    "# Construyendo matriz X \n",
    "ones = np.ones([len(y), 1]) # m renglones y 1 columna de unos\n",
    "x_1 = np.reshape(x, [len(y), -1]) # columna de factor x con m renglones y 1 columna\n",
    "x_2 = np.reshape(x**2, [len(y), -1])\n",
    "\n",
    "X_G2 = np.hstack((ones, x_1, x_2)) #amontonar en la matriz X (stack) en horizontal (h)\n",
    "X_G2"
   ]
  },
  {
   "cell_type": "code",
   "execution_count": 140,
   "metadata": {},
   "outputs": [
    {
     "data": {
      "text/plain": [
       "65603560019152.78"
      ]
     },
     "execution_count": 140,
     "metadata": {},
     "output_type": "execute_result"
    }
   ],
   "source": [
    "beta_inicial_G2 = np.random.rand(3) #vector aleatorio de 3 porque beta tiene 4 elementos\n",
    "y = np.reshape(y, [len(y), -1])\n",
    "funcion_de_costo2(beta_inicial_G2, X_G2, y)"
   ]
  },
  {
   "cell_type": "code",
   "execution_count": 141,
   "metadata": {},
   "outputs": [
    {
     "data": {
      "text/plain": [
       "      fun: 4852466507200.844\n",
       " hess_inv: array([[ 1.22052005e+00, -7.21644966e-15, -3.09200098e-07],\n",
       "       [-7.21644966e-15,  3.33066907e-16, -1.62630326e-19],\n",
       "       [-3.09200098e-07, -1.62630326e-19,  8.08881454e-14]])\n",
       "      jac: array([        0.,         0., -22216704.])\n",
       "  message: 'Desired error not necessarily achieved due to precision loss.'\n",
       "     nfev: 262\n",
       "      nit: 5\n",
       "     njev: 63\n",
       "   status: 2\n",
       "  success: False\n",
       "        x: array([-8.55136621e+03, -1.95576097e+04,  1.04457426e+01])"
      ]
     },
     "execution_count": 141,
     "metadata": {},
     "output_type": "execute_result"
    }
   ],
   "source": [
    "import scipy.optimize as opt\n",
    "sol_G2 = opt.minimize(funcion_de_costo2,\n",
    "                  beta_inicial_G2,\n",
    "                  args=(X_G2, y))\n",
    "sol_G2"
   ]
  },
  {
   "cell_type": "code",
   "execution_count": 142,
   "metadata": {},
   "outputs": [
    {
     "data": {
      "text/plain": [
       "array([[1.00000000e+00, 1.95000000e+03, 3.80250000e+06, 7.41487500e+09],\n",
       "       [1.00000000e+00, 1.95100000e+03, 3.80640100e+06, 7.42628835e+09],\n",
       "       [1.00000000e+00, 1.95200000e+03, 3.81030400e+06, 7.43771341e+09],\n",
       "       [1.00000000e+00, 1.95300000e+03, 3.81420900e+06, 7.44915018e+09],\n",
       "       [1.00000000e+00, 1.95400000e+03, 3.81811600e+06, 7.46059866e+09],\n",
       "       [1.00000000e+00, 1.95500000e+03, 3.82202500e+06, 7.47205888e+09],\n",
       "       [1.00000000e+00, 1.95600000e+03, 3.82593600e+06, 7.48353082e+09],\n",
       "       [1.00000000e+00, 1.95700000e+03, 3.82984900e+06, 7.49501449e+09],\n",
       "       [1.00000000e+00, 1.95800000e+03, 3.83376400e+06, 7.50650991e+09],\n",
       "       [1.00000000e+00, 1.95900000e+03, 3.83768100e+06, 7.51801708e+09],\n",
       "       [1.00000000e+00, 1.96000000e+03, 3.84160000e+06, 7.52953600e+09],\n",
       "       [1.00000000e+00, 1.96100000e+03, 3.84552100e+06, 7.54106668e+09],\n",
       "       [1.00000000e+00, 1.96200000e+03, 3.84944400e+06, 7.55260913e+09],\n",
       "       [1.00000000e+00, 1.96300000e+03, 3.85336900e+06, 7.56416335e+09],\n",
       "       [1.00000000e+00, 1.96400000e+03, 3.85729600e+06, 7.57572934e+09],\n",
       "       [1.00000000e+00, 1.96500000e+03, 3.86122500e+06, 7.58730712e+09],\n",
       "       [1.00000000e+00, 1.96600000e+03, 3.86515600e+06, 7.59889670e+09],\n",
       "       [1.00000000e+00, 1.96700000e+03, 3.86908900e+06, 7.61049806e+09],\n",
       "       [1.00000000e+00, 1.96800000e+03, 3.87302400e+06, 7.62211123e+09],\n",
       "       [1.00000000e+00, 1.96900000e+03, 3.87696100e+06, 7.63373621e+09],\n",
       "       [1.00000000e+00, 1.97000000e+03, 3.88090000e+06, 7.64537300e+09],\n",
       "       [1.00000000e+00, 1.97100000e+03, 3.88484100e+06, 7.65702161e+09],\n",
       "       [1.00000000e+00, 1.97200000e+03, 3.88878400e+06, 7.66868205e+09],\n",
       "       [1.00000000e+00, 1.97300000e+03, 3.89272900e+06, 7.68035432e+09],\n",
       "       [1.00000000e+00, 1.97400000e+03, 3.89667600e+06, 7.69203842e+09],\n",
       "       [1.00000000e+00, 1.97500000e+03, 3.90062500e+06, 7.70373438e+09],\n",
       "       [1.00000000e+00, 1.97600000e+03, 3.90457600e+06, 7.71544218e+09],\n",
       "       [1.00000000e+00, 1.97700000e+03, 3.90852900e+06, 7.72716183e+09],\n",
       "       [1.00000000e+00, 1.97800000e+03, 3.91248400e+06, 7.73889335e+09],\n",
       "       [1.00000000e+00, 1.97900000e+03, 3.91644100e+06, 7.75063674e+09],\n",
       "       [1.00000000e+00, 1.98000000e+03, 3.92040000e+06, 7.76239200e+09],\n",
       "       [1.00000000e+00, 1.98100000e+03, 3.92436100e+06, 7.77415914e+09],\n",
       "       [1.00000000e+00, 1.98200000e+03, 3.92832400e+06, 7.78593817e+09],\n",
       "       [1.00000000e+00, 1.98300000e+03, 3.93228900e+06, 7.79772909e+09],\n",
       "       [1.00000000e+00, 1.98400000e+03, 3.93625600e+06, 7.80953190e+09],\n",
       "       [1.00000000e+00, 1.98500000e+03, 3.94022500e+06, 7.82134662e+09],\n",
       "       [1.00000000e+00, 1.98600000e+03, 3.94419600e+06, 7.83317326e+09],\n",
       "       [1.00000000e+00, 1.98700000e+03, 3.94816900e+06, 7.84501180e+09],\n",
       "       [1.00000000e+00, 1.98800000e+03, 3.95214400e+06, 7.85686227e+09],\n",
       "       [1.00000000e+00, 1.98900000e+03, 3.95612100e+06, 7.86872467e+09],\n",
       "       [1.00000000e+00, 1.99000000e+03, 3.96010000e+06, 7.88059900e+09],\n",
       "       [1.00000000e+00, 1.99100000e+03, 3.96408100e+06, 7.89248527e+09],\n",
       "       [1.00000000e+00, 1.99200000e+03, 3.96806400e+06, 7.90438349e+09],\n",
       "       [1.00000000e+00, 1.99300000e+03, 3.97204900e+06, 7.91629366e+09],\n",
       "       [1.00000000e+00, 1.99400000e+03, 3.97603600e+06, 7.92821578e+09],\n",
       "       [1.00000000e+00, 1.99500000e+03, 3.98002500e+06, 7.94014988e+09],\n",
       "       [1.00000000e+00, 1.99600000e+03, 3.98401600e+06, 7.95209594e+09],\n",
       "       [1.00000000e+00, 1.99700000e+03, 3.98800900e+06, 7.96405397e+09],\n",
       "       [1.00000000e+00, 1.99800000e+03, 3.99200400e+06, 7.97602399e+09],\n",
       "       [1.00000000e+00, 1.99900000e+03, 3.99600100e+06, 7.98800600e+09],\n",
       "       [1.00000000e+00, 2.00000000e+03, 4.00000000e+06, 8.00000000e+09],\n",
       "       [1.00000000e+00, 2.00100000e+03, 4.00400100e+06, 8.01200600e+09],\n",
       "       [1.00000000e+00, 2.00200000e+03, 4.00800400e+06, 8.02402401e+09],\n",
       "       [1.00000000e+00, 2.00300000e+03, 4.01200900e+06, 8.03605403e+09],\n",
       "       [1.00000000e+00, 2.00400000e+03, 4.01601600e+06, 8.04809606e+09],\n",
       "       [1.00000000e+00, 2.00500000e+03, 4.02002500e+06, 8.06015012e+09],\n",
       "       [1.00000000e+00, 2.00600000e+03, 4.02403600e+06, 8.07221622e+09],\n",
       "       [1.00000000e+00, 2.00700000e+03, 4.02804900e+06, 8.08429434e+09],\n",
       "       [1.00000000e+00, 2.00800000e+03, 4.03206400e+06, 8.09638451e+09],\n",
       "       [1.00000000e+00, 2.00900000e+03, 4.03608100e+06, 8.10848673e+09],\n",
       "       [1.00000000e+00, 2.01000000e+03, 4.04010000e+06, 8.12060100e+09],\n",
       "       [1.00000000e+00, 2.01100000e+03, 4.04412100e+06, 8.13272733e+09],\n",
       "       [1.00000000e+00, 2.01200000e+03, 4.04814400e+06, 8.14486573e+09],\n",
       "       [1.00000000e+00, 2.01300000e+03, 4.05216900e+06, 8.15701620e+09],\n",
       "       [1.00000000e+00, 2.01400000e+03, 4.05619600e+06, 8.16917874e+09],\n",
       "       [1.00000000e+00, 2.01500000e+03, 4.06022500e+06, 8.18135338e+09]])"
      ]
     },
     "execution_count": 142,
     "metadata": {},
     "output_type": "execute_result"
    }
   ],
   "source": [
    "#Definimos un modelo f(x) = B0 + B1*x + B1*x**2 + B1*x**3\n",
    "def funcion_de_costo3(beta, X, y):\n",
    "    beta = np.reshape(beta, [4, -1]) #porque beta es tiene 4 elementos, el -1 es para siempre\n",
    "    pred = X @ beta  #@ es para que se haga la multiplicacion respetando algebra lineal \n",
    "    costo = (y-pred).T @ (y-pred)\n",
    "    return costo[0][0] #para quitar los corchetes en la respuesta\n",
    "\n",
    "# Construyendo matriz X \n",
    "ones = np.ones([len(y), 1]) # m renglones y 1 columna de unos\n",
    "x_1 = np.reshape(x, [len(y), -1]) # columna de factor x con m renglones y 1 columna\n",
    "x_2 = np.reshape(x**2, [len(y), -1])\n",
    "x_3 = np.reshape(x**3, [len(y), -1])\n",
    "\n",
    "X_G3 = np.hstack((ones, x_1, x_2, x_3)) #amontonar en la matriz X (stack) en horizontal (h)\n",
    "X_G3"
   ]
  },
  {
   "cell_type": "code",
   "execution_count": 143,
   "metadata": {},
   "outputs": [
    {
     "data": {
      "text/plain": [
       "4.421784859985251e+20"
      ]
     },
     "execution_count": 143,
     "metadata": {},
     "output_type": "execute_result"
    }
   ],
   "source": [
    "beta_inicial_G3 = np.random.rand(4) #vector aleatorio de 4 porque beta tiene 4 elementos\n",
    "y = np.reshape(y, [len(y), -1])\n",
    "funcion_de_costo3(beta_inicial_G3, X_G3, y)"
   ]
  },
  {
   "cell_type": "code",
   "execution_count": 144,
   "metadata": {},
   "outputs": [
    {
     "data": {
      "text/plain": [
       "      fun: 660704960640.4601\n",
       " hess_inv: array([[ 9.99993400e-01, -2.16571680e-03,  1.35083411e-06,\n",
       "        -1.30487994e-10],\n",
       "       [-2.16742093e-03,  1.23575125e-01, -1.24657579e-04,\n",
       "         3.14360858e-08],\n",
       "       [ 1.35255455e-06, -1.24657606e-04,  1.25755553e-07,\n",
       "        -3.17144876e-11],\n",
       "       [-1.30922128e-10,  3.14360996e-08, -3.17144946e-11,\n",
       "         7.99850942e-15]])\n",
       "      jac: array([0.00000000e+00, 8.58891059e+09, 1.70228525e+13, 3.37640943e+16])\n",
       "  message: 'Desired error not necessarily achieved due to precision loss.'\n",
       "     nfev: 302\n",
       "      nit: 5\n",
       "     njev: 58\n",
       "   status: 2\n",
       "  success: False\n",
       "        x: array([ 2.05580638e+04, -1.83199115e+06,  1.83903852e+03, -4.61180950e-01])"
      ]
     },
     "execution_count": 144,
     "metadata": {},
     "output_type": "execute_result"
    }
   ],
   "source": [
    "import scipy.optimize as opt\n",
    "sol_G3 = opt.minimize(funcion_de_costo3,\n",
    "                  beta_inicial_G3,\n",
    "                  args=(X_G3, y))\n",
    "sol_G3"
   ]
  },
  {
   "cell_type": "code",
   "execution_count": 145,
   "metadata": {},
   "outputs": [
    {
     "data": {
      "image/png": "[encoded data removed]",
      "text/plain": [
       "<Figure size 432x288 with 1 Axes>"
      ]
     },
     "metadata": {
      "needs_background": "light"
     },
     "output_type": "display_data"
    }
   ],
   "source": [
    "y_predG1 = -3.98517700e+07 + 2.12505054e+04*x\n",
    "y_predG2 = -8.55136621e+03 - 1.95576097e+04*x + 1.04457426e+01*x**2\n",
    "y_predG3 = 2.05580638e+04 - 1.83199115e+06*x + 1.83903852e+03*x**2 - 4.61180950e-01*x**3\n",
    "\n",
    "import matplotlib.pyplot as plt\n",
    "%matplotlib inline\n",
    "plt.figure()\n",
    "plt.scatter (x, y)\n",
    "plt.plot(x, y_predG1, \"r\", label=\"Grado 1\")\n",
    "plt.plot(x, y_predG2, \"b\", label=\"Grado 2\")\n",
    "plt.plot(x, y_predG3, \"g\", label=\"Grado 3\")\n",
    "plt.legend()\n",
    "plt.grid()"
   ]
  }
 ],
 "metadata": {
  "kernelspec": {
   "display_name": "Python 3 (ipykernel)",
   "language": "python",
   "name": "python3"
  },
  "language_info": {
   "codemirror_mode": {
    "name": "ipython",
    "version": 3
   },
   "file_extension": ".py",
   "mimetype": "text/x-python",
   "name": "python",
   "nbconvert_exporter": "python",
   "pygments_lexer": "ipython3",
   "version": "3.9.12"
  }
 },
 "nbformat": 4,
 "nbformat_minor": 2
}
