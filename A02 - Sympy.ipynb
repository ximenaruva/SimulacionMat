{
 "cells": [
  {
   "cell_type": "markdown",
   "metadata": {},
   "source": [
    "# Ejercicios de optimización escalar"
   ]
  },
  {
   "cell_type": "markdown",
   "metadata": {},
   "source": [
    "**Para la siguientes funciones encuentre los puntos críticos, grafique y diga si éste se trata de un máximo o mínimo, local o global.**"
   ]
  },
  {
   "cell_type": "markdown",
   "metadata": {},
   "source": [
    "$f(x)=1260+117x-9x^2$"
   ]
  },
  {
   "cell_type": "code",
   "execution_count": 357,
   "metadata": {},
   "outputs": [
    {
     "data": {
      "text/latex": [
       "$\\displaystyle - 9 x^{2} + 117 x + 1260$"
      ],
      "text/plain": [
       "-9*x**2 + 117*x + 1260"
      ]
     },
     "execution_count": 357,
     "metadata": {},
     "output_type": "execute_result"
    }
   ],
   "source": [
    "import matplotlib.pyplot as plt\n",
    "import numpy as np\n",
    "import sympy as sp\n",
    "sp.var(\"x\")\n",
    "\n",
    "f = 1260 + 117*x - 9*x**2\n",
    "f"
   ]
  },
  {
   "cell_type": "code",
   "execution_count": 358,
   "metadata": {},
   "outputs": [
    {
     "data": {
      "text/latex": [
       "$\\displaystyle 117 - 18 x$"
      ],
      "text/plain": [
       "117 - 18*x"
      ]
     },
     "execution_count": 358,
     "metadata": {},
     "output_type": "execute_result"
    }
   ],
   "source": [
    "df = sp.diff(f, x)\n",
    "df"
   ]
  },
  {
   "cell_type": "code",
   "execution_count": 359,
   "metadata": {},
   "outputs": [
    {
     "data": {
      "text/latex": [
       "$\\displaystyle -18$"
      ],
      "text/plain": [
       "-18"
      ]
     },
     "execution_count": 359,
     "metadata": {},
     "output_type": "execute_result"
    }
   ],
   "source": [
    "df2 = sp.diff(df, x)\n",
    "df2"
   ]
  },
  {
   "cell_type": "code",
   "execution_count": 360,
   "metadata": {},
   "outputs": [
    {
     "data": {
      "text/plain": [
       "[13/2]"
      ]
     },
     "execution_count": 360,
     "metadata": {},
     "output_type": "execute_result"
    }
   ],
   "source": [
    "pc = sp.solve(df, x)\n",
    "pc"
   ]
  },
  {
   "cell_type": "code",
   "execution_count": 361,
   "metadata": {},
   "outputs": [],
   "source": [
    "fn = sp.lambdify(x, f, \"numpy\")"
   ]
  },
  {
   "cell_type": "code",
   "execution_count": 362,
   "metadata": {},
   "outputs": [],
   "source": [
    "xn = np.linspace(-1000, 1000, 50)\n",
    "yn = fn(xn)"
   ]
  },
  {
   "cell_type": "code",
   "execution_count": 363,
   "metadata": {},
   "outputs": [
    {
     "data": {
      "text/plain": [
       "[<matplotlib.lines.Line2D at 0x273d6ec9a60>]"
      ]
     },
     "execution_count": 363,
     "metadata": {},
     "output_type": "execute_result"
    },
    {
     "data": {
      "image/png": "[encoded data removed]",
      "text/plain": [
       "<Figure size 432x288 with 1 Axes>"
      ]
     },
     "metadata": {
      "needs_background": "light"
     },
     "output_type": "display_data"
    }
   ],
   "source": [
    "plt.figure()\n",
    "plt.plot(xn, yn)\n",
    "plt.grid()\n",
    "\n",
    "plt.plot(13/2,    # x\n",
    "         fn(13/2), # y\n",
    "         \"r*\", # tipo de trazo (estrella roja)\n",
    "         ms=10) # mark size"
   ]
  },
  {
   "cell_type": "markdown",
   "metadata": {},
   "source": [
    "¿Se trata de un máximo o mínimo, local o global?"
   ]
  },
  {
   "cell_type": "code",
   "execution_count": 364,
   "metadata": {},
   "outputs": [
    {
     "name": "stdout",
     "output_type": "stream",
     "text": [
      "-18\n"
     ]
    }
   ],
   "source": [
    "for i in pc:\n",
    "    valor_csd = df2.subs(x, i)\n",
    "    print(valor_csd)"
   ]
  },
  {
   "cell_type": "code",
   "execution_count": 365,
   "metadata": {},
   "outputs": [
    {
     "name": "stdout",
     "output_type": "stream",
     "text": [
      "El punto crítico en x=13/2 es un máximo global.\n"
     ]
    }
   ],
   "source": [
    "for i in pc:\n",
    "    valor_csd = df2.subs(x, i)\n",
    "    if valor_csd > 0:\n",
    "        print(\"El punto crítico en x=\" + str(i) + \" es un mínimo global.\")\n",
    "    elif valor_csd < 0:\n",
    "        print(\"El punto crítico en x=\" + str(i) + \" es un máximo global.\")\n",
    "    else:\n",
    "        print(\"No se sabe.\")"
   ]
  },
  {
   "cell_type": "markdown",
   "metadata": {},
   "source": [
    "$f(x)=5+x+\\frac{4}{x}$, para $x>0$"
   ]
  },
  {
   "cell_type": "code",
   "execution_count": 366,
   "metadata": {},
   "outputs": [
    {
     "data": {
      "text/latex": [
       "$\\displaystyle x + 5 + \\frac{4}{x}$"
      ],
      "text/plain": [
       "x + 5 + 4/x"
      ]
     },
     "execution_count": 366,
     "metadata": {},
     "output_type": "execute_result"
    }
   ],
   "source": [
    "sp.var(\"x\")\n",
    "\n",
    "def f(x):\n",
    "    return (5 + x + 4/x)\n",
    "f(x)"
   ]
  },
  {
   "cell_type": "code",
   "execution_count": 367,
   "metadata": {},
   "outputs": [
    {
     "data": {
      "text/latex": [
       "$\\displaystyle 1 - \\frac{4}{x^{2}}$"
      ],
      "text/plain": [
       "1 - 4/x**2"
      ]
     },
     "execution_count": 367,
     "metadata": {},
     "output_type": "execute_result"
    }
   ],
   "source": [
    "df = sp.diff(f(x), x)\n",
    "df"
   ]
  },
  {
   "cell_type": "code",
   "execution_count": 368,
   "metadata": {},
   "outputs": [
    {
     "data": {
      "text/latex": [
       "$\\displaystyle \\frac{8}{x^{3}}$"
      ],
      "text/plain": [
       "8/x**3"
      ]
     },
     "execution_count": 368,
     "metadata": {},
     "output_type": "execute_result"
    }
   ],
   "source": [
    "df2 = sp.diff(df, x)\n",
    "df2"
   ]
  },
  {
   "cell_type": "code",
   "execution_count": 369,
   "metadata": {},
   "outputs": [
    {
     "data": {
      "text/plain": [
       "[-2, 2]"
      ]
     },
     "execution_count": 369,
     "metadata": {},
     "output_type": "execute_result"
    }
   ],
   "source": [
    "pc = sp.solve(df, x)\n",
    "pc"
   ]
  },
  {
   "cell_type": "code",
   "execution_count": 370,
   "metadata": {},
   "outputs": [
    {
     "data": {
      "image/png": "[encoded data removed]",
      "text/plain": [
       "<Figure size 432x288 with 1 Axes>"
      ]
     },
     "metadata": {
      "needs_background": "light"
     },
     "output_type": "display_data"
    }
   ],
   "source": [
    "plt.figure()\n",
    "\n",
    "xn = np.linspace(start = 0.1,\n",
    "                stop = 10,\n",
    "                num = 50)\n",
    "yn = f(xn) #Funcion evaluada con el vector (uno a uno)\n",
    "plt.plot(xn, yn)\n",
    "plt.grid()"
   ]
  },
  {
   "cell_type": "markdown",
   "metadata": {},
   "source": [
    "¿Se trata de un máximo o mínimo, local o global?"
   ]
  },
  {
   "cell_type": "code",
   "execution_count": 371,
   "metadata": {},
   "outputs": [
    {
     "name": "stdout",
     "output_type": "stream",
     "text": [
      "-1\n",
      "1\n"
     ]
    }
   ],
   "source": [
    "for i in pc:\n",
    "    valor_csd = df2.subs(x, i)\n",
    "    print(valor_csd)"
   ]
  },
  {
   "cell_type": "code",
   "execution_count": 372,
   "metadata": {},
   "outputs": [
    {
     "name": "stdout",
     "output_type": "stream",
     "text": [
      "El punto crítico en x=-2 es un máximo.\n",
      "El punto crítico en x=2 es un mínimo.\n"
     ]
    }
   ],
   "source": [
    "for i in pc:\n",
    "    valor_csd = df2.subs(x, i)\n",
    "    if valor_csd > 0:\n",
    "        print(\"El punto crítico en x=\" + str(i) + \" es un mínimo.\")\n",
    "    elif valor_csd < 0:\n",
    "        print(\"El punto crítico en x=\" + str(i) + \" es un máximo.\")\n",
    "    else:\n",
    "        print(\"No se sabe.\")"
   ]
  },
  {
   "cell_type": "markdown",
   "metadata": {},
   "source": [
    "$f(x)=6-2x+\\sqrt{18-2x^2}$, para $-3\\leq x\\leq 3$"
   ]
  },
  {
   "cell_type": "code",
   "execution_count": 373,
   "metadata": {
    "scrolled": true
   },
   "outputs": [
    {
     "data": {
      "text/latex": [
       "$\\displaystyle - 2 x + \\left(18 - 2 x^{2}\\right)^{0.5} + 6$"
      ],
      "text/plain": [
       "-2*x + (18 - 2*x**2)**0.5 + 6"
      ]
     },
     "execution_count": 373,
     "metadata": {},
     "output_type": "execute_result"
    }
   ],
   "source": [
    "sp.var(\"x\")\n",
    "\n",
    "def f(x):\n",
    "    return (6 - 2*x + (18-2*(x**2))**(1/2))\n",
    "f(x)"
   ]
  },
  {
   "cell_type": "code",
   "execution_count": 374,
   "metadata": {},
   "outputs": [
    {
     "data": {
      "text/latex": [
       "$\\displaystyle - \\frac{2.0 x}{\\left(18 - 2 x^{2}\\right)^{0.5}} - 2$"
      ],
      "text/plain": [
       "-2.0*x/(18 - 2*x**2)**0.5 - 2"
      ]
     },
     "execution_count": 374,
     "metadata": {},
     "output_type": "execute_result"
    }
   ],
   "source": [
    "df = sp.diff(f(x), x)\n",
    "df"
   ]
  },
  {
   "cell_type": "code",
   "execution_count": 375,
   "metadata": {},
   "outputs": [
    {
     "data": {
      "text/latex": [
       "$\\displaystyle - \\frac{4.0 x^{2}}{\\left(18 - 2 x^{2}\\right)^{1.5}} - \\frac{2.0}{\\left(18 - 2 x^{2}\\right)^{0.5}}$"
      ],
      "text/plain": [
       "-4.0*x**2/(18 - 2*x**2)**1.5 - 2.0/(18 - 2*x**2)**0.5"
      ]
     },
     "execution_count": 375,
     "metadata": {},
     "output_type": "execute_result"
    }
   ],
   "source": [
    "df2 = sp.diff(df, x)\n",
    "df2"
   ]
  },
  {
   "cell_type": "code",
   "execution_count": 376,
   "metadata": {},
   "outputs": [
    {
     "data": {
      "text/plain": [
       "[-2.44948974278318]"
      ]
     },
     "execution_count": 376,
     "metadata": {},
     "output_type": "execute_result"
    }
   ],
   "source": [
    "pc = sp.solve(df, x)\n",
    "pc"
   ]
  },
  {
   "cell_type": "code",
   "execution_count": 377,
   "metadata": {},
   "outputs": [
    {
     "data": {
      "image/png": "[encoded data removed]",
      "text/plain": [
       "<Figure size 432x288 with 1 Axes>"
      ]
     },
     "metadata": {
      "needs_background": "light"
     },
     "output_type": "display_data"
    }
   ],
   "source": [
    "plt.figure()\n",
    "\n",
    "xn = np.linspace(start = -3,\n",
    "                stop = 3,\n",
    "                num = 50)\n",
    "yn = f(xn) #Funcion evaluada con el vector (uno a uno)\n",
    "plt.plot(xn, yn,)\n",
    "plt.grid()"
   ]
  },
  {
   "cell_type": "markdown",
   "metadata": {},
   "source": [
    "¿Se trata de un máximo o mínimo, local o global?"
   ]
  },
  {
   "cell_type": "code",
   "execution_count": 378,
   "metadata": {},
   "outputs": [
    {
     "name": "stdout",
     "output_type": "stream",
     "text": [
      "-2.44948974278318\n"
     ]
    }
   ],
   "source": [
    "for i in pc:\n",
    "    valor_csd = df2.subs(x, i)\n",
    "    print(valor_csd)"
   ]
  },
  {
   "cell_type": "code",
   "execution_count": 379,
   "metadata": {},
   "outputs": [
    {
     "name": "stdout",
     "output_type": "stream",
     "text": [
      "El punto crítico en x=-2.44948974278318 es un máximo global.\n"
     ]
    }
   ],
   "source": [
    "for i in pc:\n",
    "    valor_csd = df2.subs(x, i)\n",
    "    if valor_csd > 0:\n",
    "        print(\"El punto crítico en x=\" + str(i) + \" es un mínimo global.\")\n",
    "    elif valor_csd < 0:\n",
    "        print(\"El punto crítico en x=\" + str(i) + \" es un máximo global.\")\n",
    "    else:\n",
    "        print(\"No se sabe.\")"
   ]
  },
  {
   "cell_type": "markdown",
   "metadata": {},
   "source": [
    "$f(x)=\\frac{1}{4}x^4+\\frac{1}{3}x^3-x^2$ en el intervalo $[-3,1.7]$"
   ]
  },
  {
   "cell_type": "code",
   "execution_count": 380,
   "metadata": {},
   "outputs": [
    {
     "data": {
      "text/latex": [
       "$\\displaystyle 0.25 x^{4} + 0.333333333333333 x^{3} - x^{2}$"
      ],
      "text/plain": [
       "0.25*x**4 + 0.333333333333333*x**3 - x**2"
      ]
     },
     "execution_count": 380,
     "metadata": {},
     "output_type": "execute_result"
    }
   ],
   "source": [
    "sp.var(\"x\")\n",
    "\n",
    "def f(x):\n",
    "    return ((1/4)*x**4 + (1/3)*x**3 - x**2)\n",
    "f(x)"
   ]
  },
  {
   "cell_type": "code",
   "execution_count": 381,
   "metadata": {},
   "outputs": [
    {
     "data": {
      "text/latex": [
       "$\\displaystyle 1.0 x^{3} + 1.0 x^{2} - 2 x$"
      ],
      "text/plain": [
       "1.0*x**3 + 1.0*x**2 - 2*x"
      ]
     },
     "execution_count": 381,
     "metadata": {},
     "output_type": "execute_result"
    }
   ],
   "source": [
    "df = sp.diff(f(x), x)\n",
    "df"
   ]
  },
  {
   "cell_type": "code",
   "execution_count": 382,
   "metadata": {},
   "outputs": [
    {
     "data": {
      "text/latex": [
       "$\\displaystyle 3.0 x^{2} + 2.0 x - 2$"
      ],
      "text/plain": [
       "3.0*x**2 + 2.0*x - 2"
      ]
     },
     "execution_count": 382,
     "metadata": {},
     "output_type": "execute_result"
    }
   ],
   "source": [
    "df2 = sp.diff(df, x)\n",
    "df2"
   ]
  },
  {
   "cell_type": "code",
   "execution_count": 383,
   "metadata": {},
   "outputs": [
    {
     "data": {
      "text/plain": [
       "[-2.00000000000000, 0.0, 1.00000000000000]"
      ]
     },
     "execution_count": 383,
     "metadata": {},
     "output_type": "execute_result"
    }
   ],
   "source": [
    "pc = sp.solve(df, x)\n",
    "pc"
   ]
  },
  {
   "cell_type": "code",
   "execution_count": 384,
   "metadata": {},
   "outputs": [
    {
     "data": {
      "image/png": "[encoded data removed]",
      "text/plain": [
       "<Figure size 432x288 with 1 Axes>"
      ]
     },
     "metadata": {
      "needs_background": "light"
     },
     "output_type": "display_data"
    }
   ],
   "source": [
    "plt.figure()\n",
    "\n",
    "xn = np.linspace(start = -3,\n",
    "                stop = 1.7,\n",
    "                num = 50)\n",
    "yn = f(xn) #Funcion evaluada con el vector (uno a uno)\n",
    "plt.plot(xn, yn)\n",
    "plt.grid()"
   ]
  },
  {
   "cell_type": "markdown",
   "metadata": {},
   "source": [
    "¿Se trata de un máximo o mínimo, local o global?"
   ]
  },
  {
   "cell_type": "code",
   "execution_count": 385,
   "metadata": {},
   "outputs": [
    {
     "name": "stdout",
     "output_type": "stream",
     "text": [
      "6.00000000000000\n",
      "-2\n",
      "3.00000000000000\n"
     ]
    }
   ],
   "source": [
    "for i in pc:\n",
    "    valor_csd = df2.subs(x, i)\n",
    "    print(valor_csd)"
   ]
  },
  {
   "cell_type": "code",
   "execution_count": 386,
   "metadata": {},
   "outputs": [
    {
     "name": "stdout",
     "output_type": "stream",
     "text": [
      "El punto crítico en x=-2.00000000000000 es un mínimo.\n",
      "El punto crítico en x=0.0 es un máximo.\n",
      "El punto crítico en x=1.00000000000000 es un mínimo.\n"
     ]
    }
   ],
   "source": [
    "for i in pc:\n",
    "    valor_csd = df2.subs(x, i)\n",
    "    if valor_csd > 0:\n",
    "        print(\"El punto crítico en x=\" + str(i) + \" es un mínimo.\")\n",
    "    elif valor_csd < 0:\n",
    "        print(\"El punto crítico en x=\" + str(i) + \" es un máximo.\")\n",
    "    else:\n",
    "        print(\"No se sabe.\")"
   ]
  },
  {
   "cell_type": "markdown",
   "metadata": {},
   "source": [
    "---\n",
    "**Resuelva los siguientes problemas usando la librería `SymPy`. Use celdas en `Markdown` para explicar su procedimiento.**"
   ]
  },
  {
   "cell_type": "markdown",
   "metadata": {},
   "source": [
    "El perímetro de un triángulo isósceles es de $10 cm$. ¿Cuánto deben medir sus lados para que el volumen del cuerpo generado por la rotación del triángulo en torno a su base sea el mayor posible? (Volumen de un cono $= \\frac{1}{3}\\pi r^2 h$, donde $r$ es el radio de la base y $h$ la altura del cono)."
   ]
  },
  {
   "cell_type": "markdown",
   "metadata": {},
   "source": [
    "### Solución"
   ]
  },
  {
   "cell_type": "markdown",
   "metadata": {},
   "source": [
    "Se puede hacer una ecuación del perímetro que consiste en 2 lados iguales (2y) y en la base (x), haciendo que $$ 2y+x=10 $$"
   ]
  },
  {
   "cell_type": "code",
   "execution_count": 411,
   "metadata": {},
   "outputs": [
    {
     "data": {
      "text/latex": [
       "$\\displaystyle x + 2 y - 10$"
      ],
      "text/plain": [
       "x + 2*y - 10"
      ]
     },
     "execution_count": 411,
     "metadata": {},
     "output_type": "execute_result"
    }
   ],
   "source": [
    "import matplotlib.pyplot as plt\n",
    "import numpy as np\n",
    "import sympy as sp\n",
    "sp.var(\"x\")\n",
    "sp.var(\"y\")\n",
    "\n",
    "ec_perim = 2*y + x -10\n",
    "ec_perim"
   ]
  },
  {
   "cell_type": "markdown",
   "metadata": {},
   "source": [
    "Después se despeja \"y\" para tener una ecuación respecto a lo que son los lados"
   ]
  },
  {
   "cell_type": "code",
   "execution_count": 412,
   "metadata": {},
   "outputs": [
    {
     "data": {
      "text/plain": [
       "[5 - x/2]"
      ]
     },
     "execution_count": 412,
     "metadata": {},
     "output_type": "execute_result"
    }
   ],
   "source": [
    "ecuacionlados = sp.solve(ec_perim, y)\n",
    "ecuacionlados"
   ]
  },
  {
   "cell_type": "markdown",
   "metadata": {},
   "source": [
    "Después se utiliza el teorema de pitágoras para obtener la función de la altura. Se parte el triángulo por la mitad, haciendo que el lado que conocemos sea la hipotenusa (y), el cateto a sea la mitad de la base (x/2), y el cateto b sea la altura (h)\n",
    "\n",
    "Conocemos que \n",
    "$$ b^2=c^2-a^2 $$\n",
    "Entonces queda la función\n",
    "$$ h^2=y^2-(x/2)^2 $$"
   ]
  },
  {
   "cell_type": "markdown",
   "metadata": {},
   "source": [
    "Y sabemos que la ecuación del lado (y) es $$ 5 - x/2 $$\n",
    "Y que la ecuación de la base (cateto a) es $$ x/2 $$\n",
    "Por lo que:"
   ]
  },
  {
   "cell_type": "code",
   "execution_count": 413,
   "metadata": {},
   "outputs": [
    {
     "data": {
      "text/latex": [
       "$\\displaystyle 25 - 5 x$"
      ],
      "text/plain": [
       "25 - 5*x"
      ]
     },
     "execution_count": 413,
     "metadata": {},
     "output_type": "execute_result"
    }
   ],
   "source": [
    "lado = ecuacionlados[0]\n",
    "cat_a = x/2\n",
    "\n",
    "h = sp.simplify((lado**2)-(cat_a**2))\n",
    "h"
   ]
  },
  {
   "cell_type": "code",
   "execution_count": 414,
   "metadata": {},
   "outputs": [
    {
     "data": {
      "text/latex": [
       "$\\displaystyle \\left(25 - 5 x\\right)^{0.5}$"
      ],
      "text/plain": [
       "(25 - 5*x)**0.5"
      ]
     },
     "execution_count": 414,
     "metadata": {},
     "output_type": "execute_result"
    }
   ],
   "source": [
    "# Como esta elevada al cuadrado, entonces hay que sacar la raíz\n",
    "\n",
    "h = (h**(1/2))\n",
    "h"
   ]
  },
  {
   "cell_type": "markdown",
   "metadata": {},
   "source": [
    "Ahora ya que se sabe la altura, falta definir el radio con la variable.\n",
    "Si \n",
    "$$ radio = circ/pi $$\n",
    "Entonces"
   ]
  },
  {
   "cell_type": "code",
   "execution_count": 415,
   "metadata": {},
   "outputs": [],
   "source": [
    "r = (x/sp.pi)"
   ]
  },
  {
   "cell_type": "markdown",
   "metadata": {},
   "source": [
    "Haciendo que el volumen quede como"
   ]
  },
  {
   "cell_type": "code",
   "execution_count": 416,
   "metadata": {},
   "outputs": [
    {
     "data": {
      "text/latex": [
       "$\\displaystyle \\frac{0.74535599249993 x^{2} \\left(5 - x\\right)^{0.5}}{\\pi}$"
      ],
      "text/plain": [
       "0.74535599249993*x**2*(5 - x)**0.5/pi"
      ]
     },
     "execution_count": 416,
     "metadata": {},
     "output_type": "execute_result"
    }
   ],
   "source": [
    "v = sp.simplify((1/3)*((sp.pi)*(r**2)*(h)))\n",
    "v"
   ]
  },
  {
   "cell_type": "code",
   "execution_count": 417,
   "metadata": {},
   "outputs": [
    {
     "data": {
      "text/latex": [
       "$\\displaystyle - \\frac{0.372677996249965 x^{2}}{\\pi \\left(5 - x\\right)^{0.5}} + \\frac{1.49071198499986 x \\left(5 - x\\right)^{0.5}}{\\pi}$"
      ],
      "text/plain": [
       "-0.372677996249965*x**2/(pi*(5 - x)**0.5) + 1.49071198499986*x*(5 - x)**0.5/pi"
      ]
     },
     "execution_count": 417,
     "metadata": {},
     "output_type": "execute_result"
    }
   ],
   "source": [
    "# Se saca la derivada del volumen\n",
    "df = sp.diff(v, x)\n",
    "df"
   ]
  },
  {
   "cell_type": "code",
   "execution_count": 418,
   "metadata": {},
   "outputs": [
    {
     "data": {
      "text/latex": [
       "$\\displaystyle - \\frac{0.186338998124982 x^{2}}{\\pi \\left(5 - x\\right)^{1.5}} - \\frac{1.49071198499986 x}{\\pi \\left(5 - x\\right)^{0.5}} + \\frac{1.49071198499986 \\left(5 - x\\right)^{0.5}}{\\pi}$"
      ],
      "text/plain": [
       "-0.186338998124982*x**2/(pi*(5 - x)**1.5) - 1.49071198499986*x/(pi*(5 - x)**0.5) + 1.49071198499986*(5 - x)**0.5/pi"
      ]
     },
     "execution_count": 418,
     "metadata": {},
     "output_type": "execute_result"
    }
   ],
   "source": [
    "# La segunda derivada\n",
    "df2 = sp.diff(df, x)\n",
    "df2"
   ]
  },
  {
   "cell_type": "code",
   "execution_count": 419,
   "metadata": {},
   "outputs": [
    {
     "data": {
      "text/plain": [
       "[0.0, 4.00000000000000]"
      ]
     },
     "execution_count": 419,
     "metadata": {},
     "output_type": "execute_result"
    }
   ],
   "source": [
    "#Los puntos críticos\n",
    "pc = sp.solve(df, x)\n",
    "pc"
   ]
  },
  {
   "cell_type": "code",
   "execution_count": 424,
   "metadata": {},
   "outputs": [
    {
     "data": {
      "image/png": "[encoded data removed]",
      "text/plain": [
       "<Figure size 432x288 with 1 Axes>"
      ]
     },
     "metadata": {
      "needs_background": "light"
     },
     "output_type": "display_data"
    }
   ],
   "source": [
    "vn = sp.lambdify(x, v, \"numpy\")\n",
    "xn = np.linspace (0, 5, 100)\n",
    "yn = vn(xn)\n",
    "\n",
    "plt.figure()\n",
    "plt.plot(xn, yn)\n",
    "plt.grid()\n",
    "\n",
    "for i in pc:\n",
    "    vol = float(v.subs(x, i))\n",
    "    vol = round(vol,2)\n",
    "    med_lados = int(lado.subs(x, i))\n",
    "    i = int(i)\n",
    "    \n",
    "    plt.plot (i, vol, \"*r\", ms = 12)\n",
    "    \n"
   ]
  },
  {
   "cell_type": "code",
   "execution_count": 421,
   "metadata": {},
   "outputs": [
    {
     "name": "stdout",
     "output_type": "stream",
     "text": [
      "El Volumen máximo es de 3.8cm^3 cuando la base es 4cm y los lados 3cm\n"
     ]
    }
   ],
   "source": [
    "punto_critico = df2.subs(x, i)\n",
    "\n",
    "if punto_critico == 0:\n",
    "    print(f\"El punto crítico en ({i}, {vol} no es máximo o mínimo)\")\n",
    "elif punto_critico > 0:\n",
    "    print(f\"El Volumen mínimo es de {vol}cm^3 cuando la base es {i}cm y los lados {med_lados}cm\")\n",
    "elif punto_critico < 0:\n",
    "    print(f\"El Volumen máximo es de {vol}cm^3 cuando la base es {i}cm y los lados {med_lados}cm\")"
   ]
  },
  {
   "cell_type": "markdown",
   "metadata": {},
   "source": [
    "Disponemos de una barra de aluminio de 6 metros para construir una portería de fútbol. Si queremos que el área de la portería sea máxima, ¿cuánto deben medir los postes y el travesaño?"
   ]
  },
  {
   "cell_type": "markdown",
   "metadata": {},
   "source": [
    "### Solución"
   ]
  },
  {
   "cell_type": "markdown",
   "metadata": {},
   "source": [
    "Al tener 2 lados iguales como los postes (2y) y el travesaño (x) se puede decir que tenemos esta ecuación $$ 2y+x=6 $$"
   ]
  },
  {
   "cell_type": "code",
   "execution_count": 398,
   "metadata": {},
   "outputs": [
    {
     "data": {
      "text/latex": [
       "$\\displaystyle x + 2 y - 6$"
      ],
      "text/plain": [
       "x + 2*y - 6"
      ]
     },
     "execution_count": 398,
     "metadata": {},
     "output_type": "execute_result"
    }
   ],
   "source": [
    "import sympy as sp\n",
    "sp.var(\"x\")\n",
    "\n",
    "ecu_perim = 2*y + x - 6\n",
    "ecu_perim"
   ]
  },
  {
   "cell_type": "markdown",
   "metadata": {},
   "source": [
    "Después se despeja \"y\" para tener una ecuación respecto a lo que son los postes"
   ]
  },
  {
   "cell_type": "code",
   "execution_count": 399,
   "metadata": {},
   "outputs": [
    {
     "data": {
      "text/plain": [
       "[3 - x/2]"
      ]
     },
     "execution_count": 399,
     "metadata": {},
     "output_type": "execute_result"
    }
   ],
   "source": [
    "ec_postes = sp.solve(ecu_perim, y)\n",
    "ec_postes"
   ]
  },
  {
   "cell_type": "markdown",
   "metadata": {},
   "source": [
    "Se sabe que la fórmula del área de un rectángulo es $$ A=x*y $$\n",
    "Por lo que sustituimos el valor de \"y\" (ec_postes) en la fórmula"
   ]
  },
  {
   "cell_type": "code",
   "execution_count": 400,
   "metadata": {},
   "outputs": [
    {
     "data": {
      "text/latex": [
       "$\\displaystyle \\frac{x \\left(6 - x\\right)}{2}$"
      ],
      "text/plain": [
       "x*(6 - x)/2"
      ]
     },
     "execution_count": 400,
     "metadata": {},
     "output_type": "execute_result"
    }
   ],
   "source": [
    "lados = ec_postes[0]\n",
    "def ecuacion(x):\n",
    "    return sp.simplify (x*lados)\n",
    "ecuacion(x)"
   ]
  },
  {
   "cell_type": "code",
   "execution_count": 401,
   "metadata": {},
   "outputs": [
    {
     "data": {
      "text/latex": [
       "$\\displaystyle \\frac{x \\left(6 - x\\right)}{2}$"
      ],
      "text/plain": [
       "x*(6 - x)/2"
      ]
     },
     "execution_count": 401,
     "metadata": {},
     "output_type": "execute_result"
    }
   ],
   "source": [
    "def A(x):\n",
    "    return ((x*(6-x))/2)\n",
    "A(x)"
   ]
  },
  {
   "cell_type": "code",
   "execution_count": 402,
   "metadata": {},
   "outputs": [
    {
     "data": {
      "text/latex": [
       "$\\displaystyle 3 - x$"
      ],
      "text/plain": [
       "3 - x"
      ]
     },
     "execution_count": 402,
     "metadata": {},
     "output_type": "execute_result"
    }
   ],
   "source": [
    "#Se obtiene la primera derivada\n",
    "df = sp.diff(A(x), x)\n",
    "df"
   ]
  },
  {
   "cell_type": "code",
   "execution_count": 403,
   "metadata": {},
   "outputs": [
    {
     "data": {
      "text/latex": [
       "$\\displaystyle -1$"
      ],
      "text/plain": [
       "-1"
      ]
     },
     "execution_count": 403,
     "metadata": {},
     "output_type": "execute_result"
    }
   ],
   "source": [
    "#La segunda derivada\n",
    "df2 = sp.diff(df, x)\n",
    "df2"
   ]
  },
  {
   "cell_type": "code",
   "execution_count": 404,
   "metadata": {},
   "outputs": [
    {
     "data": {
      "text/plain": [
       "[3]"
      ]
     },
     "execution_count": 404,
     "metadata": {},
     "output_type": "execute_result"
    }
   ],
   "source": [
    "#Los puntos criticos\n",
    "pc = sp.solve(df, x)\n",
    "pc"
   ]
  },
  {
   "cell_type": "code",
   "execution_count": 409,
   "metadata": {},
   "outputs": [
    {
     "data": {
      "image/png": "[encoded data removed]",
      "text/plain": [
       "<Figure size 432x288 with 1 Axes>"
      ]
     },
     "metadata": {
      "needs_background": "light"
     },
     "output_type": "display_data"
    }
   ],
   "source": [
    "import matplotlib.pyplot as plt\n",
    "import numpy as np\n",
    "import sympy as sp\n",
    "\n",
    "\n",
    "xn=np.linspace(0,6, 200)\n",
    "yn = A(xn)\n",
    "plt.figure()\n",
    "plt.plot(xn,yn,\"y\")\n",
    "plt.grid()\n",
    "\n",
    "for i in pc:\n",
    "    if i>=0 and i<=6:\n",
    "        pc1 = round(i,2)\n",
    "        y = round(A(pc1),2)\n",
    "        plt.plot(pc1,y,'*r',ms=12)\n",
    "        h= round(3-pc1/2,2)"
   ]
  },
  {
   "cell_type": "code",
   "execution_count": 410,
   "metadata": {},
   "outputs": [
    {
     "name": "stdout",
     "output_type": "stream",
     "text": [
      "El área máxima es de 4.50m, con el travesaño de 3m y 2 postes de 1.50m\n"
     ]
    }
   ],
   "source": [
    "punto_critico = df2.subs(x,pc1)\n",
    "\n",
    "if punto_critico == 0:\n",
    "            print(f'El punto crítico está en ( {pc1} , {y} ) y no es un maximo o un mínimo')\n",
    "elif punto_critico > 0:\n",
    "            print(f'El área mínima es de {y}m, con el travesaño de {pc1}m y 2 postes de {h}m')\n",
    "elif punto_critico < 0:\n",
    "            print(f'El área máxima es de {y}m, con el travesaño de {pc1}m y 2 postes de {h}m')"
   ]
  }
 ],
 "metadata": {
  "kernelspec": {
   "display_name": "Python 3 (ipykernel)",
   "language": "python",
   "name": "python3"
  },
  "language_info": {
   "codemirror_mode": {
    "name": "ipython",
    "version": 3
   },
   "file_extension": ".py",
   "mimetype": "text/x-python",
   "name": "python",
   "nbconvert_exporter": "python",
   "pygments_lexer": "ipython3",
   "version": "3.9.12"
  }
 },
 "nbformat": 4,
 "nbformat_minor": 2
}
